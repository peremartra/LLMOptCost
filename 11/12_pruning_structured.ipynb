{
  "nbformat": 4,
  "nbformat_minor": 0,
  "metadata": {
    "colab": {
      "provenance": [],
      "machine_shape": "hm",
      "authorship_tag": "ABX9TyN7wD0efY58EgtXw8OoKIPy",
      "include_colab_link": true
    },
    "kernelspec": {
      "name": "python3",
      "display_name": "Python 3"
    },
    "language_info": {
      "name": "python"
    },
    "widgets": {
      "application/vnd.jupyter.widget-state+json": {
        "e8f3ad6a3f064682bb3a596a154e7f01": {
          "model_module": "@jupyter-widgets/controls",
          "model_name": "HBoxModel",
          "model_module_version": "1.5.0",
          "state": {
            "_dom_classes": [],
            "_model_module": "@jupyter-widgets/controls",
            "_model_module_version": "1.5.0",
            "_model_name": "HBoxModel",
            "_view_count": null,
            "_view_module": "@jupyter-widgets/controls",
            "_view_module_version": "1.5.0",
            "_view_name": "HBoxView",
            "box_style": "",
            "children": [
              "IPY_MODEL_c6f6cf270e3549789e7a9482c64e6ae0",
              "IPY_MODEL_cb70bbeb4b7c472788e7b93b25054241",
              "IPY_MODEL_c38f75323566433ba752f232be02b192"
            ],
            "layout": "IPY_MODEL_26b32752013949db92dd981f79639fcd"
          }
        },
        "c6f6cf270e3549789e7a9482c64e6ae0": {
          "model_module": "@jupyter-widgets/controls",
          "model_name": "HTMLModel",
          "model_module_version": "1.5.0",
          "state": {
            "_dom_classes": [],
            "_model_module": "@jupyter-widgets/controls",
            "_model_module_version": "1.5.0",
            "_model_name": "HTMLModel",
            "_view_count": null,
            "_view_module": "@jupyter-widgets/controls",
            "_view_module_version": "1.5.0",
            "_view_name": "HTMLView",
            "description": "",
            "description_tooltip": null,
            "layout": "IPY_MODEL_a64a5df4491846a0ab47833086f38d49",
            "placeholder": "​",
            "style": "IPY_MODEL_36316b4f24a24dd39486393f29ca43ec",
            "value": "model.safetensors: 100%"
          }
        },
        "cb70bbeb4b7c472788e7b93b25054241": {
          "model_module": "@jupyter-widgets/controls",
          "model_name": "FloatProgressModel",
          "model_module_version": "1.5.0",
          "state": {
            "_dom_classes": [],
            "_model_module": "@jupyter-widgets/controls",
            "_model_module_version": "1.5.0",
            "_model_name": "FloatProgressModel",
            "_view_count": null,
            "_view_module": "@jupyter-widgets/controls",
            "_view_module_version": "1.5.0",
            "_view_name": "ProgressView",
            "bar_style": "success",
            "description": "",
            "description_tooltip": null,
            "layout": "IPY_MODEL_55e7e6dab6c3418abd43e97d1076e215",
            "max": 1995339680,
            "min": 0,
            "orientation": "horizontal",
            "style": "IPY_MODEL_69630d0aebfb4c3ba0090a00c9ebd3b4",
            "value": 1995339680
          }
        },
        "c38f75323566433ba752f232be02b192": {
          "model_module": "@jupyter-widgets/controls",
          "model_name": "HTMLModel",
          "model_module_version": "1.5.0",
          "state": {
            "_dom_classes": [],
            "_model_module": "@jupyter-widgets/controls",
            "_model_module_version": "1.5.0",
            "_model_name": "HTMLModel",
            "_view_count": null,
            "_view_module": "@jupyter-widgets/controls",
            "_view_module_version": "1.5.0",
            "_view_name": "HTMLView",
            "description": "",
            "description_tooltip": null,
            "layout": "IPY_MODEL_e3dc644ebc0b4edeb2db86fbd0fa182b",
            "placeholder": "​",
            "style": "IPY_MODEL_d1e9f5768b89444b8c0ec126fc397835",
            "value": " 2.00G/2.00G [01:22&lt;00:00, 29.7MB/s]"
          }
        },
        "26b32752013949db92dd981f79639fcd": {
          "model_module": "@jupyter-widgets/base",
          "model_name": "LayoutModel",
          "model_module_version": "1.2.0",
          "state": {
            "_model_module": "@jupyter-widgets/base",
            "_model_module_version": "1.2.0",
            "_model_name": "LayoutModel",
            "_view_count": null,
            "_view_module": "@jupyter-widgets/base",
            "_view_module_version": "1.2.0",
            "_view_name": "LayoutView",
            "align_content": null,
            "align_items": null,
            "align_self": null,
            "border": null,
            "bottom": null,
            "display": null,
            "flex": null,
            "flex_flow": null,
            "grid_area": null,
            "grid_auto_columns": null,
            "grid_auto_flow": null,
            "grid_auto_rows": null,
            "grid_column": null,
            "grid_gap": null,
            "grid_row": null,
            "grid_template_areas": null,
            "grid_template_columns": null,
            "grid_template_rows": null,
            "height": null,
            "justify_content": null,
            "justify_items": null,
            "left": null,
            "margin": null,
            "max_height": null,
            "max_width": null,
            "min_height": null,
            "min_width": null,
            "object_fit": null,
            "object_position": null,
            "order": null,
            "overflow": null,
            "overflow_x": null,
            "overflow_y": null,
            "padding": null,
            "right": null,
            "top": null,
            "visibility": null,
            "width": null
          }
        },
        "a64a5df4491846a0ab47833086f38d49": {
          "model_module": "@jupyter-widgets/base",
          "model_name": "LayoutModel",
          "model_module_version": "1.2.0",
          "state": {
            "_model_module": "@jupyter-widgets/base",
            "_model_module_version": "1.2.0",
            "_model_name": "LayoutModel",
            "_view_count": null,
            "_view_module": "@jupyter-widgets/base",
            "_view_module_version": "1.2.0",
            "_view_name": "LayoutView",
            "align_content": null,
            "align_items": null,
            "align_self": null,
            "border": null,
            "bottom": null,
            "display": null,
            "flex": null,
            "flex_flow": null,
            "grid_area": null,
            "grid_auto_columns": null,
            "grid_auto_flow": null,
            "grid_auto_rows": null,
            "grid_column": null,
            "grid_gap": null,
            "grid_row": null,
            "grid_template_areas": null,
            "grid_template_columns": null,
            "grid_template_rows": null,
            "height": null,
            "justify_content": null,
            "justify_items": null,
            "left": null,
            "margin": null,
            "max_height": null,
            "max_width": null,
            "min_height": null,
            "min_width": null,
            "object_fit": null,
            "object_position": null,
            "order": null,
            "overflow": null,
            "overflow_x": null,
            "overflow_y": null,
            "padding": null,
            "right": null,
            "top": null,
            "visibility": null,
            "width": null
          }
        },
        "36316b4f24a24dd39486393f29ca43ec": {
          "model_module": "@jupyter-widgets/controls",
          "model_name": "DescriptionStyleModel",
          "model_module_version": "1.5.0",
          "state": {
            "_model_module": "@jupyter-widgets/controls",
            "_model_module_version": "1.5.0",
            "_model_name": "DescriptionStyleModel",
            "_view_count": null,
            "_view_module": "@jupyter-widgets/base",
            "_view_module_version": "1.2.0",
            "_view_name": "StyleView",
            "description_width": ""
          }
        },
        "55e7e6dab6c3418abd43e97d1076e215": {
          "model_module": "@jupyter-widgets/base",
          "model_name": "LayoutModel",
          "model_module_version": "1.2.0",
          "state": {
            "_model_module": "@jupyter-widgets/base",
            "_model_module_version": "1.2.0",
            "_model_name": "LayoutModel",
            "_view_count": null,
            "_view_module": "@jupyter-widgets/base",
            "_view_module_version": "1.2.0",
            "_view_name": "LayoutView",
            "align_content": null,
            "align_items": null,
            "align_self": null,
            "border": null,
            "bottom": null,
            "display": null,
            "flex": null,
            "flex_flow": null,
            "grid_area": null,
            "grid_auto_columns": null,
            "grid_auto_flow": null,
            "grid_auto_rows": null,
            "grid_column": null,
            "grid_gap": null,
            "grid_row": null,
            "grid_template_areas": null,
            "grid_template_columns": null,
            "grid_template_rows": null,
            "height": null,
            "justify_content": null,
            "justify_items": null,
            "left": null,
            "margin": null,
            "max_height": null,
            "max_width": null,
            "min_height": null,
            "min_width": null,
            "object_fit": null,
            "object_position": null,
            "order": null,
            "overflow": null,
            "overflow_x": null,
            "overflow_y": null,
            "padding": null,
            "right": null,
            "top": null,
            "visibility": null,
            "width": null
          }
        },
        "69630d0aebfb4c3ba0090a00c9ebd3b4": {
          "model_module": "@jupyter-widgets/controls",
          "model_name": "ProgressStyleModel",
          "model_module_version": "1.5.0",
          "state": {
            "_model_module": "@jupyter-widgets/controls",
            "_model_module_version": "1.5.0",
            "_model_name": "ProgressStyleModel",
            "_view_count": null,
            "_view_module": "@jupyter-widgets/base",
            "_view_module_version": "1.2.0",
            "_view_name": "StyleView",
            "bar_color": null,
            "description_width": ""
          }
        },
        "e3dc644ebc0b4edeb2db86fbd0fa182b": {
          "model_module": "@jupyter-widgets/base",
          "model_name": "LayoutModel",
          "model_module_version": "1.2.0",
          "state": {
            "_model_module": "@jupyter-widgets/base",
            "_model_module_version": "1.2.0",
            "_model_name": "LayoutModel",
            "_view_count": null,
            "_view_module": "@jupyter-widgets/base",
            "_view_module_version": "1.2.0",
            "_view_name": "LayoutView",
            "align_content": null,
            "align_items": null,
            "align_self": null,
            "border": null,
            "bottom": null,
            "display": null,
            "flex": null,
            "flex_flow": null,
            "grid_area": null,
            "grid_auto_columns": null,
            "grid_auto_flow": null,
            "grid_auto_rows": null,
            "grid_column": null,
            "grid_gap": null,
            "grid_row": null,
            "grid_template_areas": null,
            "grid_template_columns": null,
            "grid_template_rows": null,
            "height": null,
            "justify_content": null,
            "justify_items": null,
            "left": null,
            "margin": null,
            "max_height": null,
            "max_width": null,
            "min_height": null,
            "min_width": null,
            "object_fit": null,
            "object_position": null,
            "order": null,
            "overflow": null,
            "overflow_x": null,
            "overflow_y": null,
            "padding": null,
            "right": null,
            "top": null,
            "visibility": null,
            "width": null
          }
        },
        "d1e9f5768b89444b8c0ec126fc397835": {
          "model_module": "@jupyter-widgets/controls",
          "model_name": "DescriptionStyleModel",
          "model_module_version": "1.5.0",
          "state": {
            "_model_module": "@jupyter-widgets/controls",
            "_model_module_version": "1.5.0",
            "_model_name": "DescriptionStyleModel",
            "_view_count": null,
            "_view_module": "@jupyter-widgets/base",
            "_view_module_version": "1.2.0",
            "_view_name": "StyleView",
            "description_width": ""
          }
        },
        "354db5da21e6420d827afafa42df2cfe": {
          "model_module": "@jupyter-widgets/controls",
          "model_name": "HBoxModel",
          "model_module_version": "1.5.0",
          "state": {
            "_dom_classes": [],
            "_model_module": "@jupyter-widgets/controls",
            "_model_module_version": "1.5.0",
            "_model_name": "HBoxModel",
            "_view_count": null,
            "_view_module": "@jupyter-widgets/controls",
            "_view_module_version": "1.5.0",
            "_view_name": "HBoxView",
            "box_style": "",
            "children": [
              "IPY_MODEL_8c7c709ea6f5457e9547454e3b701ea3",
              "IPY_MODEL_e1d65b283e6c4ed8ae73f14e11d5e659",
              "IPY_MODEL_e6fe145ec35c49d19920522eef87eb9b"
            ],
            "layout": "IPY_MODEL_85f0e8bb660041059d963889bef5f5bc"
          }
        },
        "8c7c709ea6f5457e9547454e3b701ea3": {
          "model_module": "@jupyter-widgets/controls",
          "model_name": "HTMLModel",
          "model_module_version": "1.5.0",
          "state": {
            "_dom_classes": [],
            "_model_module": "@jupyter-widgets/controls",
            "_model_module_version": "1.5.0",
            "_model_name": "HTMLModel",
            "_view_count": null,
            "_view_module": "@jupyter-widgets/controls",
            "_view_module_version": "1.5.0",
            "_view_name": "HTMLView",
            "description": "",
            "description_tooltip": null,
            "layout": "IPY_MODEL_ab79452d0db94668a7a98591d317de86",
            "placeholder": "​",
            "style": "IPY_MODEL_5f76f29fbbfe49beacb2854fc1ad7042",
            "value": "README.md: 100%"
          }
        },
        "e1d65b283e6c4ed8ae73f14e11d5e659": {
          "model_module": "@jupyter-widgets/controls",
          "model_name": "FloatProgressModel",
          "model_module_version": "1.5.0",
          "state": {
            "_dom_classes": [],
            "_model_module": "@jupyter-widgets/controls",
            "_model_module_version": "1.5.0",
            "_model_name": "FloatProgressModel",
            "_view_count": null,
            "_view_module": "@jupyter-widgets/controls",
            "_view_module_version": "1.5.0",
            "_view_name": "ProgressView",
            "bar_style": "success",
            "description": "",
            "description_tooltip": null,
            "layout": "IPY_MODEL_1082975ef63b409d8ebe619fcf6942d8",
            "max": 5174,
            "min": 0,
            "orientation": "horizontal",
            "style": "IPY_MODEL_f63e5a79b8ff4595a6eee7c2780d0d93",
            "value": 5174
          }
        },
        "e6fe145ec35c49d19920522eef87eb9b": {
          "model_module": "@jupyter-widgets/controls",
          "model_name": "HTMLModel",
          "model_module_version": "1.5.0",
          "state": {
            "_dom_classes": [],
            "_model_module": "@jupyter-widgets/controls",
            "_model_module_version": "1.5.0",
            "_model_name": "HTMLModel",
            "_view_count": null,
            "_view_module": "@jupyter-widgets/controls",
            "_view_module_version": "1.5.0",
            "_view_name": "HTMLView",
            "description": "",
            "description_tooltip": null,
            "layout": "IPY_MODEL_33eef55331224596820f1b0b87c6a5d8",
            "placeholder": "​",
            "style": "IPY_MODEL_053ed604357e42a39ea3a708d77f8f68",
            "value": " 5.17k/5.17k [00:00&lt;00:00, 360kB/s]"
          }
        },
        "85f0e8bb660041059d963889bef5f5bc": {
          "model_module": "@jupyter-widgets/base",
          "model_name": "LayoutModel",
          "model_module_version": "1.2.0",
          "state": {
            "_model_module": "@jupyter-widgets/base",
            "_model_module_version": "1.2.0",
            "_model_name": "LayoutModel",
            "_view_count": null,
            "_view_module": "@jupyter-widgets/base",
            "_view_module_version": "1.2.0",
            "_view_name": "LayoutView",
            "align_content": null,
            "align_items": null,
            "align_self": null,
            "border": null,
            "bottom": null,
            "display": null,
            "flex": null,
            "flex_flow": null,
            "grid_area": null,
            "grid_auto_columns": null,
            "grid_auto_flow": null,
            "grid_auto_rows": null,
            "grid_column": null,
            "grid_gap": null,
            "grid_row": null,
            "grid_template_areas": null,
            "grid_template_columns": null,
            "grid_template_rows": null,
            "height": null,
            "justify_content": null,
            "justify_items": null,
            "left": null,
            "margin": null,
            "max_height": null,
            "max_width": null,
            "min_height": null,
            "min_width": null,
            "object_fit": null,
            "object_position": null,
            "order": null,
            "overflow": null,
            "overflow_x": null,
            "overflow_y": null,
            "padding": null,
            "right": null,
            "top": null,
            "visibility": null,
            "width": null
          }
        },
        "ab79452d0db94668a7a98591d317de86": {
          "model_module": "@jupyter-widgets/base",
          "model_name": "LayoutModel",
          "model_module_version": "1.2.0",
          "state": {
            "_model_module": "@jupyter-widgets/base",
            "_model_module_version": "1.2.0",
            "_model_name": "LayoutModel",
            "_view_count": null,
            "_view_module": "@jupyter-widgets/base",
            "_view_module_version": "1.2.0",
            "_view_name": "LayoutView",
            "align_content": null,
            "align_items": null,
            "align_self": null,
            "border": null,
            "bottom": null,
            "display": null,
            "flex": null,
            "flex_flow": null,
            "grid_area": null,
            "grid_auto_columns": null,
            "grid_auto_flow": null,
            "grid_auto_rows": null,
            "grid_column": null,
            "grid_gap": null,
            "grid_row": null,
            "grid_template_areas": null,
            "grid_template_columns": null,
            "grid_template_rows": null,
            "height": null,
            "justify_content": null,
            "justify_items": null,
            "left": null,
            "margin": null,
            "max_height": null,
            "max_width": null,
            "min_height": null,
            "min_width": null,
            "object_fit": null,
            "object_position": null,
            "order": null,
            "overflow": null,
            "overflow_x": null,
            "overflow_y": null,
            "padding": null,
            "right": null,
            "top": null,
            "visibility": null,
            "width": null
          }
        },
        "5f76f29fbbfe49beacb2854fc1ad7042": {
          "model_module": "@jupyter-widgets/controls",
          "model_name": "DescriptionStyleModel",
          "model_module_version": "1.5.0",
          "state": {
            "_model_module": "@jupyter-widgets/controls",
            "_model_module_version": "1.5.0",
            "_model_name": "DescriptionStyleModel",
            "_view_count": null,
            "_view_module": "@jupyter-widgets/base",
            "_view_module_version": "1.2.0",
            "_view_name": "StyleView",
            "description_width": ""
          }
        },
        "1082975ef63b409d8ebe619fcf6942d8": {
          "model_module": "@jupyter-widgets/base",
          "model_name": "LayoutModel",
          "model_module_version": "1.2.0",
          "state": {
            "_model_module": "@jupyter-widgets/base",
            "_model_module_version": "1.2.0",
            "_model_name": "LayoutModel",
            "_view_count": null,
            "_view_module": "@jupyter-widgets/base",
            "_view_module_version": "1.2.0",
            "_view_name": "LayoutView",
            "align_content": null,
            "align_items": null,
            "align_self": null,
            "border": null,
            "bottom": null,
            "display": null,
            "flex": null,
            "flex_flow": null,
            "grid_area": null,
            "grid_auto_columns": null,
            "grid_auto_flow": null,
            "grid_auto_rows": null,
            "grid_column": null,
            "grid_gap": null,
            "grid_row": null,
            "grid_template_areas": null,
            "grid_template_columns": null,
            "grid_template_rows": null,
            "height": null,
            "justify_content": null,
            "justify_items": null,
            "left": null,
            "margin": null,
            "max_height": null,
            "max_width": null,
            "min_height": null,
            "min_width": null,
            "object_fit": null,
            "object_position": null,
            "order": null,
            "overflow": null,
            "overflow_x": null,
            "overflow_y": null,
            "padding": null,
            "right": null,
            "top": null,
            "visibility": null,
            "width": null
          }
        },
        "f63e5a79b8ff4595a6eee7c2780d0d93": {
          "model_module": "@jupyter-widgets/controls",
          "model_name": "ProgressStyleModel",
          "model_module_version": "1.5.0",
          "state": {
            "_model_module": "@jupyter-widgets/controls",
            "_model_module_version": "1.5.0",
            "_model_name": "ProgressStyleModel",
            "_view_count": null,
            "_view_module": "@jupyter-widgets/base",
            "_view_module_version": "1.2.0",
            "_view_name": "StyleView",
            "bar_color": null,
            "description_width": ""
          }
        },
        "33eef55331224596820f1b0b87c6a5d8": {
          "model_module": "@jupyter-widgets/base",
          "model_name": "LayoutModel",
          "model_module_version": "1.2.0",
          "state": {
            "_model_module": "@jupyter-widgets/base",
            "_model_module_version": "1.2.0",
            "_model_name": "LayoutModel",
            "_view_count": null,
            "_view_module": "@jupyter-widgets/base",
            "_view_module_version": "1.2.0",
            "_view_name": "LayoutView",
            "align_content": null,
            "align_items": null,
            "align_self": null,
            "border": null,
            "bottom": null,
            "display": null,
            "flex": null,
            "flex_flow": null,
            "grid_area": null,
            "grid_auto_columns": null,
            "grid_auto_flow": null,
            "grid_auto_rows": null,
            "grid_column": null,
            "grid_gap": null,
            "grid_row": null,
            "grid_template_areas": null,
            "grid_template_columns": null,
            "grid_template_rows": null,
            "height": null,
            "justify_content": null,
            "justify_items": null,
            "left": null,
            "margin": null,
            "max_height": null,
            "max_width": null,
            "min_height": null,
            "min_width": null,
            "object_fit": null,
            "object_position": null,
            "order": null,
            "overflow": null,
            "overflow_x": null,
            "overflow_y": null,
            "padding": null,
            "right": null,
            "top": null,
            "visibility": null,
            "width": null
          }
        },
        "053ed604357e42a39ea3a708d77f8f68": {
          "model_module": "@jupyter-widgets/controls",
          "model_name": "DescriptionStyleModel",
          "model_module_version": "1.5.0",
          "state": {
            "_model_module": "@jupyter-widgets/controls",
            "_model_module_version": "1.5.0",
            "_model_name": "DescriptionStyleModel",
            "_view_count": null,
            "_view_module": "@jupyter-widgets/base",
            "_view_module_version": "1.2.0",
            "_view_name": "StyleView",
            "description_width": ""
          }
        },
        "a36e1dc0bd194757b172e63294cbeb4c": {
          "model_module": "@jupyter-widgets/controls",
          "model_name": "HBoxModel",
          "model_module_version": "1.5.0",
          "state": {
            "_dom_classes": [],
            "_model_module": "@jupyter-widgets/controls",
            "_model_module_version": "1.5.0",
            "_model_name": "HBoxModel",
            "_view_count": null,
            "_view_module": "@jupyter-widgets/controls",
            "_view_module_version": "1.5.0",
            "_view_name": "HBoxView",
            "box_style": "",
            "children": [
              "IPY_MODEL_9ea51b54ac374e349e5606e384a9178f",
              "IPY_MODEL_c8b0552aec0943a1b485c2ddc30eb41b",
              "IPY_MODEL_d58d8fbd7c464cfcbf4f5357f2055390"
            ],
            "layout": "IPY_MODEL_94be902f4a964b4099fa4a72003ea2b6"
          }
        },
        "9ea51b54ac374e349e5606e384a9178f": {
          "model_module": "@jupyter-widgets/controls",
          "model_name": "HTMLModel",
          "model_module_version": "1.5.0",
          "state": {
            "_dom_classes": [],
            "_model_module": "@jupyter-widgets/controls",
            "_model_module_version": "1.5.0",
            "_model_name": "HTMLModel",
            "_view_count": null,
            "_view_module": "@jupyter-widgets/controls",
            "_view_module_version": "1.5.0",
            "_view_name": "HTMLView",
            "description": "",
            "description_tooltip": null,
            "layout": "IPY_MODEL_4bfedefeb83045bc972f730df6b72ad3",
            "placeholder": "​",
            "style": "IPY_MODEL_971a3b70cff34a50b0162b47308add85",
            "value": "tokenizer.json: 100%"
          }
        },
        "c8b0552aec0943a1b485c2ddc30eb41b": {
          "model_module": "@jupyter-widgets/controls",
          "model_name": "FloatProgressModel",
          "model_module_version": "1.5.0",
          "state": {
            "_dom_classes": [],
            "_model_module": "@jupyter-widgets/controls",
            "_model_module_version": "1.5.0",
            "_model_name": "FloatProgressModel",
            "_view_count": null,
            "_view_module": "@jupyter-widgets/controls",
            "_view_module_version": "1.5.0",
            "_view_name": "ProgressView",
            "bar_style": "success",
            "description": "",
            "description_tooltip": null,
            "layout": "IPY_MODEL_af006d06d16a4d62bae439b8bc54b83e",
            "max": 14500499,
            "min": 0,
            "orientation": "horizontal",
            "style": "IPY_MODEL_9f94edf2690948a59eedbbbeb37fa84b",
            "value": 14500499
          }
        },
        "d58d8fbd7c464cfcbf4f5357f2055390": {
          "model_module": "@jupyter-widgets/controls",
          "model_name": "HTMLModel",
          "model_module_version": "1.5.0",
          "state": {
            "_dom_classes": [],
            "_model_module": "@jupyter-widgets/controls",
            "_model_module_version": "1.5.0",
            "_model_name": "HTMLModel",
            "_view_count": null,
            "_view_module": "@jupyter-widgets/controls",
            "_view_module_version": "1.5.0",
            "_view_name": "HTMLView",
            "description": "",
            "description_tooltip": null,
            "layout": "IPY_MODEL_00645e56db9b4c5f9f1446b50da6ff80",
            "placeholder": "​",
            "style": "IPY_MODEL_5fc8c3041bc74f1c92813a7adc79b93c",
            "value": " 14.5M/14.5M [00:00&lt;00:00, 108MB/s]"
          }
        },
        "94be902f4a964b4099fa4a72003ea2b6": {
          "model_module": "@jupyter-widgets/base",
          "model_name": "LayoutModel",
          "model_module_version": "1.2.0",
          "state": {
            "_model_module": "@jupyter-widgets/base",
            "_model_module_version": "1.2.0",
            "_model_name": "LayoutModel",
            "_view_count": null,
            "_view_module": "@jupyter-widgets/base",
            "_view_module_version": "1.2.0",
            "_view_name": "LayoutView",
            "align_content": null,
            "align_items": null,
            "align_self": null,
            "border": null,
            "bottom": null,
            "display": null,
            "flex": null,
            "flex_flow": null,
            "grid_area": null,
            "grid_auto_columns": null,
            "grid_auto_flow": null,
            "grid_auto_rows": null,
            "grid_column": null,
            "grid_gap": null,
            "grid_row": null,
            "grid_template_areas": null,
            "grid_template_columns": null,
            "grid_template_rows": null,
            "height": null,
            "justify_content": null,
            "justify_items": null,
            "left": null,
            "margin": null,
            "max_height": null,
            "max_width": null,
            "min_height": null,
            "min_width": null,
            "object_fit": null,
            "object_position": null,
            "order": null,
            "overflow": null,
            "overflow_x": null,
            "overflow_y": null,
            "padding": null,
            "right": null,
            "top": null,
            "visibility": null,
            "width": null
          }
        },
        "4bfedefeb83045bc972f730df6b72ad3": {
          "model_module": "@jupyter-widgets/base",
          "model_name": "LayoutModel",
          "model_module_version": "1.2.0",
          "state": {
            "_model_module": "@jupyter-widgets/base",
            "_model_module_version": "1.2.0",
            "_model_name": "LayoutModel",
            "_view_count": null,
            "_view_module": "@jupyter-widgets/base",
            "_view_module_version": "1.2.0",
            "_view_name": "LayoutView",
            "align_content": null,
            "align_items": null,
            "align_self": null,
            "border": null,
            "bottom": null,
            "display": null,
            "flex": null,
            "flex_flow": null,
            "grid_area": null,
            "grid_auto_columns": null,
            "grid_auto_flow": null,
            "grid_auto_rows": null,
            "grid_column": null,
            "grid_gap": null,
            "grid_row": null,
            "grid_template_areas": null,
            "grid_template_columns": null,
            "grid_template_rows": null,
            "height": null,
            "justify_content": null,
            "justify_items": null,
            "left": null,
            "margin": null,
            "max_height": null,
            "max_width": null,
            "min_height": null,
            "min_width": null,
            "object_fit": null,
            "object_position": null,
            "order": null,
            "overflow": null,
            "overflow_x": null,
            "overflow_y": null,
            "padding": null,
            "right": null,
            "top": null,
            "visibility": null,
            "width": null
          }
        },
        "971a3b70cff34a50b0162b47308add85": {
          "model_module": "@jupyter-widgets/controls",
          "model_name": "DescriptionStyleModel",
          "model_module_version": "1.5.0",
          "state": {
            "_model_module": "@jupyter-widgets/controls",
            "_model_module_version": "1.5.0",
            "_model_name": "DescriptionStyleModel",
            "_view_count": null,
            "_view_module": "@jupyter-widgets/base",
            "_view_module_version": "1.2.0",
            "_view_name": "StyleView",
            "description_width": ""
          }
        },
        "af006d06d16a4d62bae439b8bc54b83e": {
          "model_module": "@jupyter-widgets/base",
          "model_name": "LayoutModel",
          "model_module_version": "1.2.0",
          "state": {
            "_model_module": "@jupyter-widgets/base",
            "_model_module_version": "1.2.0",
            "_model_name": "LayoutModel",
            "_view_count": null,
            "_view_module": "@jupyter-widgets/base",
            "_view_module_version": "1.2.0",
            "_view_name": "LayoutView",
            "align_content": null,
            "align_items": null,
            "align_self": null,
            "border": null,
            "bottom": null,
            "display": null,
            "flex": null,
            "flex_flow": null,
            "grid_area": null,
            "grid_auto_columns": null,
            "grid_auto_flow": null,
            "grid_auto_rows": null,
            "grid_column": null,
            "grid_gap": null,
            "grid_row": null,
            "grid_template_areas": null,
            "grid_template_columns": null,
            "grid_template_rows": null,
            "height": null,
            "justify_content": null,
            "justify_items": null,
            "left": null,
            "margin": null,
            "max_height": null,
            "max_width": null,
            "min_height": null,
            "min_width": null,
            "object_fit": null,
            "object_position": null,
            "order": null,
            "overflow": null,
            "overflow_x": null,
            "overflow_y": null,
            "padding": null,
            "right": null,
            "top": null,
            "visibility": null,
            "width": null
          }
        },
        "9f94edf2690948a59eedbbbeb37fa84b": {
          "model_module": "@jupyter-widgets/controls",
          "model_name": "ProgressStyleModel",
          "model_module_version": "1.5.0",
          "state": {
            "_model_module": "@jupyter-widgets/controls",
            "_model_module_version": "1.5.0",
            "_model_name": "ProgressStyleModel",
            "_view_count": null,
            "_view_module": "@jupyter-widgets/base",
            "_view_module_version": "1.2.0",
            "_view_name": "StyleView",
            "bar_color": null,
            "description_width": ""
          }
        },
        "00645e56db9b4c5f9f1446b50da6ff80": {
          "model_module": "@jupyter-widgets/base",
          "model_name": "LayoutModel",
          "model_module_version": "1.2.0",
          "state": {
            "_model_module": "@jupyter-widgets/base",
            "_model_module_version": "1.2.0",
            "_model_name": "LayoutModel",
            "_view_count": null,
            "_view_module": "@jupyter-widgets/base",
            "_view_module_version": "1.2.0",
            "_view_name": "LayoutView",
            "align_content": null,
            "align_items": null,
            "align_self": null,
            "border": null,
            "bottom": null,
            "display": null,
            "flex": null,
            "flex_flow": null,
            "grid_area": null,
            "grid_auto_columns": null,
            "grid_auto_flow": null,
            "grid_auto_rows": null,
            "grid_column": null,
            "grid_gap": null,
            "grid_row": null,
            "grid_template_areas": null,
            "grid_template_columns": null,
            "grid_template_rows": null,
            "height": null,
            "justify_content": null,
            "justify_items": null,
            "left": null,
            "margin": null,
            "max_height": null,
            "max_width": null,
            "min_height": null,
            "min_width": null,
            "object_fit": null,
            "object_position": null,
            "order": null,
            "overflow": null,
            "overflow_x": null,
            "overflow_y": null,
            "padding": null,
            "right": null,
            "top": null,
            "visibility": null,
            "width": null
          }
        },
        "5fc8c3041bc74f1c92813a7adc79b93c": {
          "model_module": "@jupyter-widgets/controls",
          "model_name": "DescriptionStyleModel",
          "model_module_version": "1.5.0",
          "state": {
            "_model_module": "@jupyter-widgets/controls",
            "_model_module_version": "1.5.0",
            "_model_name": "DescriptionStyleModel",
            "_view_count": null,
            "_view_module": "@jupyter-widgets/base",
            "_view_module_version": "1.2.0",
            "_view_name": "StyleView",
            "description_width": ""
          }
        }
      }
    }
  },
  "cells": [
    {
      "cell_type": "markdown",
      "metadata": {
        "id": "view-in-github",
        "colab_type": "text"
      },
      "source": [
        "<a href=\"https://colab.research.google.com/github/peremartra/LLMOptCost/blob/main/11/12_pruning_structured.ipynb\" target=\"_parent\"><img src=\"https://colab.research.google.com/assets/colab-badge.svg\" alt=\"Open In Colab\"/></a>"
      ]
    },
    {
      "cell_type": "code",
      "execution_count": null,
      "metadata": {
        "id": "t81oS3_sM2-I"
      },
      "outputs": [],
      "source": [
        "import torch\n",
        "import torch.nn.utils.prune as prune\n",
        "from transformers import AutoModelForCausalLM, AutoTokenizer\n",
        "import matplotlib.pyplot as plt"
      ]
    },
    {
      "cell_type": "code",
      "source": [
        "def check_sparsity(layer):\n",
        "    zero_weights = torch.sum(layer.weight == 0).item()\n",
        "    total_weights = layer.weight.numel()\n",
        "    sparsity = zero_weights / total_weights\n",
        "    print(f\"Sparsity: {sparsity:.2%} of the weights are zero.\")"
      ],
      "metadata": {
        "id": "XLwjFOS_Bhw_"
      },
      "execution_count": null,
      "outputs": []
    },
    {
      "cell_type": "code",
      "source": [
        "# Load  Hugging Face model\n",
        "base_model_name = \"bigscience/bloomz-560m\"\n",
        "pruned_model_name = \"bloomz-560m-pruned-structured\"\n",
        "model = AutoModelForCausalLM.from_pretrained(base_model_name)"
      ],
      "metadata": {
        "id": "NyavvDYY23IQ"
      },
      "execution_count": null,
      "outputs": []
    },
    {
      "cell_type": "code",
      "source": [
        "# Load tokenizer\n",
        "tokenizer = AutoTokenizer.from_pretrained('bigscience/bloomz-560m')"
      ],
      "metadata": {
        "id": "MUhNMt5I408O"
      },
      "execution_count": null,
      "outputs": []
    },
    {
      "cell_type": "code",
      "source": [
        "def count_parameters(model):\n",
        "    return sum(p.numel() for p in model.parameters() if p.requires_grad)"
      ],
      "metadata": {
        "id": "rsDclYm_8esX"
      },
      "execution_count": null,
      "outputs": []
    },
    {
      "cell_type": "code",
      "source": [
        "def compute_neuron_importance(mlp_layer):\n",
        "    # Access the first linear layer in the MLP\n",
        "    dense_h_to_4h = mlp_layer.dense_h_to_4h\n",
        "    weight = dense_h_to_4h.weight.data  # Shape: (intermediate_size, hidden_size)\n",
        "\n",
        "    # Compute the L2 norm of each neuron (over input features)\n",
        "    neuron_importance = torch.norm(weight, p=2, dim=1)  # Shape: (intermediate_size,)\n",
        "\n",
        "    return neuron_importance"
      ],
      "metadata": {
        "id": "-F2D5y7H27GN"
      },
      "execution_count": null,
      "outputs": []
    },
    {
      "cell_type": "code",
      "source": [
        "def select_neurons_to_prune(neuron_importance, pruning_percentage):\n",
        "    num_neurons = neuron_importance.size(0)\n",
        "    num_prune = int(num_neurons * pruning_percentage)\n",
        "\n",
        "    # Get indices of neurons sorted by importance\n",
        "    sorted_indices = torch.argsort(neuron_importance)\n",
        "\n",
        "    # Select indices to prune (least important neurons)\n",
        "    neurons_to_prune = sorted_indices[:num_prune]\n",
        "\n",
        "    return neurons_to_prune"
      ],
      "metadata": {
        "id": "rr34sn5R3CVA"
      },
      "execution_count": null,
      "outputs": []
    },
    {
      "cell_type": "code",
      "source": [
        "def prune_mlp_neurons(mlp_layer, neurons_to_prune):\n",
        "    \"\"\"\n",
        "    Prune specified neurons in the MLP layer.\n",
        "    \"\"\"\n",
        "    # Access the MLP's linear layers\n",
        "    dense_h_to_4h = mlp_layer.dense_h_to_4h\n",
        "    dense_4h_to_h = mlp_layer.dense_4h_to_h\n",
        "\n",
        "    # Prune neurons in dense_h_to_4h (input to MLP)\n",
        "    prune_linear_layer(dense_h_to_4h, neurons_to_prune, dim=0)\n",
        "\n",
        "    # Prune corresponding neurons in dense_4h_to_h (output of MLP)\n",
        "    prune_linear_layer(dense_4h_to_h, neurons_to_prune, dim=1)"
      ],
      "metadata": {
        "id": "s2XzetWM4Q6C"
      },
      "execution_count": null,
      "outputs": []
    },
    {
      "cell_type": "code",
      "source": [
        "def prune_linear_layer(layer, indices_to_prune, dim=0):\n",
        "    \"\"\"\n",
        "    Prune specified indices from a linear layer along the given dimension.\n",
        "    \"\"\"\n",
        "    # Convert indices to keep\n",
        "    indices_to_keep = torch.tensor([\n",
        "        idx for idx in range(layer.weight.size(dim))\n",
        "        if idx not in set(indices_to_prune.tolist())\n",
        "    ])\n",
        "\n",
        "    # Prune weights\n",
        "    weight = layer.weight.data.index_select(dim, indices_to_keep)\n",
        "    layer.weight = torch.nn.Parameter(weight)\n",
        "\n",
        "    # Prune biases if necessary\n",
        "    if layer.bias is not None:\n",
        "        if dim == 0:\n",
        "            bias = layer.bias.data.index_select(0, indices_to_keep)\n",
        "            layer.bias = torch.nn.Parameter(bias)\n",
        "\n",
        "    # Update layer dimensions\n",
        "    if dim == 0:\n",
        "        layer.out_features = weight.size(0)\n",
        "    else:\n",
        "        layer.in_features = weight.size(1)"
      ],
      "metadata": {
        "id": "7tbWWSWe4Tzb"
      },
      "execution_count": null,
      "outputs": []
    },
    {
      "cell_type": "code",
      "source": [
        "def prune_mlp_neurons_in_model(model, pruning_percentage):\n",
        "    num_layers = model.config.num_hidden_layers\n",
        "\n",
        "    for layer_idx in range(num_layers):\n",
        "        # Access the MLP layer\n",
        "        mlp_layer = model.transformer.h[layer_idx].mlp\n",
        "\n",
        "        # Compute neuron importance\n",
        "        neuron_importance = compute_neuron_importance(mlp_layer)\n",
        "\n",
        "        # Select neurons to prune\n",
        "        neurons_to_prune = select_neurons_to_prune(neuron_importance, pruning_percentage)\n",
        "\n",
        "        # Prune neurons\n",
        "        prune_mlp_neurons(mlp_layer, neurons_to_prune)\n",
        "\n",
        "        # Update intermediate_size in the configuration\n",
        "        new_intermediate_size = mlp_layer.dense_h_to_4h.out_features\n",
        "        model.config.hidden_dropout = new_intermediate_size  # Update if necessary\n"
      ],
      "metadata": {
        "id": "73SV2ED74Wz2"
      },
      "execution_count": null,
      "outputs": []
    },
    {
      "cell_type": "code",
      "source": [
        "# Before pruning\n",
        "total_params_before = count_parameters(model)\n",
        "print(f\"Total parameters before pruning: {total_params_before}\")"
      ],
      "metadata": {
        "id": "NlGZcjNb8jEW",
        "outputId": "52e4954d-8a69-4048-dfba-d8f67ee47987",
        "colab": {
          "base_uri": "https://localhost:8080/"
        }
      },
      "execution_count": null,
      "outputs": [
        {
          "output_type": "stream",
          "name": "stdout",
          "text": [
            "Total parameters before pruning: 559214592\n"
          ]
        }
      ]
    },
    {
      "cell_type": "code",
      "source": [
        "prompt=\"Tell me a joke\"\n",
        "inputs = tokenizer(prompt, return_tensors=\"pt\").to(model.device)\n",
        "base_output = model.generate(**inputs)\n",
        "base_response = tokenizer.decode(base_output[0], skip_special_tokens=True)\n",
        "print(base_response)"
      ],
      "metadata": {
        "id": "d5lQCpJBRRnz",
        "outputId": "3b4df101-53e1-49f9-e033-5cdf36ff5299",
        "colab": {
          "base_uri": "https://localhost:8080/"
        }
      },
      "execution_count": null,
      "outputs": [
        {
          "output_type": "stream",
          "name": "stderr",
          "text": [
            "/usr/local/lib/python3.10/dist-packages/transformers/generation/utils.py:1258: UserWarning: Using the model-agnostic default `max_length` (=20) to control the generation length. We recommend setting `max_new_tokens` to control the maximum length of the generation.\n",
            "  warnings.warn(\n"
          ]
        },
        {
          "output_type": "stream",
          "name": "stdout",
          "text": [
            "Tell me a joke about a man who is a doctor\n"
          ]
        }
      ]
    },
    {
      "cell_type": "code",
      "source": [
        "# Define the pruning percentage (e.g., 20% pruning)\n",
        "pruning_percentage = 0.3  # Adjust as needed\n",
        "\n",
        "# Prune MLP neurons in the model\n",
        "prune_mlp_neurons_in_model(model, pruning_percentage)"
      ],
      "metadata": {
        "id": "yQuzCebT4aAH"
      },
      "execution_count": null,
      "outputs": []
    },
    {
      "cell_type": "code",
      "source": [
        "# After pruning\n",
        "total_params_after = count_parameters(model)\n",
        "print(f\"Total parameters after pruning: {total_params_after}\")\n",
        "\n",
        "# Calculate the number of parameters removed\n",
        "params_removed = total_params_before - total_params_after\n",
        "print(f\"Number of parameters removed: {params_removed}\")\n",
        "\n",
        "# Calculate percentage reduction\n",
        "percent_reduction = 100.0 * params_removed / total_params_before\n",
        "print(f\"Percentage reduction in parameters: {percent_reduction:.2f}%\")\n"
      ],
      "metadata": {
        "id": "z9G0QPYA8naZ",
        "outputId": "60a2467e-e8f3-4017-c0a7-ec98a1f3bc6e",
        "colab": {
          "base_uri": "https://localhost:8080/"
        }
      },
      "execution_count": null,
      "outputs": [
        {
          "output_type": "stream",
          "name": "stdout",
          "text": [
            "Total parameters after pruning: 498826464\n",
            "Number of parameters removed: 60388128\n",
            "Percentage reduction in parameters: 10.80%\n"
          ]
        }
      ]
    },
    {
      "cell_type": "code",
      "source": [
        "prompt=\"Tell me a joke\"\n",
        "inputs = tokenizer(prompt, return_tensors=\"pt\").to(model.device)\n",
        "base_output = model.generate(**inputs)\n",
        "base_response = tokenizer.decode(base_output[0], skip_special_tokens=True)\n",
        "print(base_response)"
      ],
      "metadata": {
        "id": "jlomsST95xBN",
        "outputId": "5dd60bd1-9e4f-482d-b3f8-847c43c7db64",
        "colab": {
          "base_uri": "https://localhost:8080/"
        }
      },
      "execution_count": null,
      "outputs": [
        {
          "output_type": "stream",
          "name": "stdout",
          "text": [
            "Tell me a joke about how how you got to to the first first first time you can get to\n"
          ]
        }
      ]
    },
    {
      "cell_type": "markdown",
      "source": [
        "# Save & Upload Model"
      ],
      "metadata": {
        "id": "IXNjjL9gRsEP"
      }
    },
    {
      "cell_type": "code",
      "source": [
        "# Save the quantized model\n",
        "model.save_pretrained(\n",
        "    pruned_model_name,\n",
        ")\n",
        "tokenizer.save_pretrained(pruned_model_name)"
      ],
      "metadata": {
        "id": "JJrnO6ORRmKS",
        "outputId": "3d3a27b3-2c07-4cce-dee3-4b06b09203cf",
        "colab": {
          "base_uri": "https://localhost:8080/"
        }
      },
      "execution_count": null,
      "outputs": [
        {
          "output_type": "execute_result",
          "data": {
            "text/plain": [
              "('bloomz-560m-pruned-structured/tokenizer_config.json',\n",
              " 'bloomz-560m-pruned-structured/special_tokens_map.json',\n",
              " 'bloomz-560m-pruned-structured/tokenizer.json')"
            ]
          },
          "metadata": {},
          "execution_count": 43
        }
      ]
    },
    {
      "cell_type": "code",
      "source": [
        "model.push_to_hub(pruned_model_name,\n",
        "                  private=False,\n",
        "                  use_temp_dir=False)"
      ],
      "metadata": {
        "id": "j0Hv_wLDUaAP",
        "outputId": "0dd3e88a-fc3b-43d9-a443-4f92a735a2fa",
        "colab": {
          "base_uri": "https://localhost:8080/",
          "height": 103,
          "referenced_widgets": [
            "e8f3ad6a3f064682bb3a596a154e7f01",
            "c6f6cf270e3549789e7a9482c64e6ae0",
            "cb70bbeb4b7c472788e7b93b25054241",
            "c38f75323566433ba752f232be02b192",
            "26b32752013949db92dd981f79639fcd",
            "a64a5df4491846a0ab47833086f38d49",
            "36316b4f24a24dd39486393f29ca43ec",
            "55e7e6dab6c3418abd43e97d1076e215",
            "69630d0aebfb4c3ba0090a00c9ebd3b4",
            "e3dc644ebc0b4edeb2db86fbd0fa182b",
            "d1e9f5768b89444b8c0ec126fc397835"
          ]
        }
      },
      "execution_count": null,
      "outputs": [
        {
          "output_type": "display_data",
          "data": {
            "text/plain": [
              "model.safetensors:   0%|          | 0.00/2.00G [00:00<?, ?B/s]"
            ],
            "application/vnd.jupyter.widget-view+json": {
              "version_major": 2,
              "version_minor": 0,
              "model_id": "e8f3ad6a3f064682bb3a596a154e7f01"
            }
          },
          "metadata": {}
        },
        {
          "output_type": "execute_result",
          "data": {
            "text/plain": [
              "CommitInfo(commit_url='https://huggingface.co/oopere/bloomz-560m-pruned-structured/commit/b4fdc5b12d458484be8090b4dda73029892b682e', commit_message='Upload BloomForCausalLM', commit_description='', oid='b4fdc5b12d458484be8090b4dda73029892b682e', pr_url=None, pr_revision=None, pr_num=None)"
            ],
            "application/vnd.google.colaboratory.intrinsic+json": {
              "type": "string"
            }
          },
          "metadata": {},
          "execution_count": 44
        }
      ]
    },
    {
      "cell_type": "code",
      "source": [
        "tokenizer.push_to_hub(pruned_model_name,\n",
        "                      private=False,\n",
        "                      use_temp_dir=False)"
      ],
      "metadata": {
        "id": "WzRgQ_c0Ug8T",
        "outputId": "7dc2d55c-b3d0-41e6-c25f-a977e1d89799",
        "colab": {
          "base_uri": "https://localhost:8080/",
          "height": 135,
          "referenced_widgets": [
            "354db5da21e6420d827afafa42df2cfe",
            "8c7c709ea6f5457e9547454e3b701ea3",
            "e1d65b283e6c4ed8ae73f14e11d5e659",
            "e6fe145ec35c49d19920522eef87eb9b",
            "85f0e8bb660041059d963889bef5f5bc",
            "ab79452d0db94668a7a98591d317de86",
            "5f76f29fbbfe49beacb2854fc1ad7042",
            "1082975ef63b409d8ebe619fcf6942d8",
            "f63e5a79b8ff4595a6eee7c2780d0d93",
            "33eef55331224596820f1b0b87c6a5d8",
            "053ed604357e42a39ea3a708d77f8f68",
            "a36e1dc0bd194757b172e63294cbeb4c",
            "9ea51b54ac374e349e5606e384a9178f",
            "c8b0552aec0943a1b485c2ddc30eb41b",
            "d58d8fbd7c464cfcbf4f5357f2055390",
            "94be902f4a964b4099fa4a72003ea2b6",
            "4bfedefeb83045bc972f730df6b72ad3",
            "971a3b70cff34a50b0162b47308add85",
            "af006d06d16a4d62bae439b8bc54b83e",
            "9f94edf2690948a59eedbbbeb37fa84b",
            "00645e56db9b4c5f9f1446b50da6ff80",
            "5fc8c3041bc74f1c92813a7adc79b93c"
          ]
        }
      },
      "execution_count": null,
      "outputs": [
        {
          "output_type": "display_data",
          "data": {
            "text/plain": [
              "README.md:   0%|          | 0.00/5.17k [00:00<?, ?B/s]"
            ],
            "application/vnd.jupyter.widget-view+json": {
              "version_major": 2,
              "version_minor": 0,
              "model_id": "354db5da21e6420d827afafa42df2cfe"
            }
          },
          "metadata": {}
        },
        {
          "output_type": "display_data",
          "data": {
            "text/plain": [
              "tokenizer.json:   0%|          | 0.00/14.5M [00:00<?, ?B/s]"
            ],
            "application/vnd.jupyter.widget-view+json": {
              "version_major": 2,
              "version_minor": 0,
              "model_id": "a36e1dc0bd194757b172e63294cbeb4c"
            }
          },
          "metadata": {}
        },
        {
          "output_type": "execute_result",
          "data": {
            "text/plain": [
              "CommitInfo(commit_url='https://huggingface.co/oopere/bloomz-560m-pruned-structured/commit/f292dfd57da7954faea6ef8276b7c23a9e8cbf8f', commit_message='Upload tokenizer', commit_description='', oid='f292dfd57da7954faea6ef8276b7c23a9e8cbf8f', pr_url=None, pr_revision=None, pr_num=None)"
            ],
            "application/vnd.google.colaboratory.intrinsic+json": {
              "type": "string"
            }
          },
          "metadata": {},
          "execution_count": 45
        }
      ]
    },
    {
      "cell_type": "code",
      "source": [],
      "metadata": {
        "id": "gsq3wZ2uUlMf"
      },
      "execution_count": null,
      "outputs": []
    }
  ]
}