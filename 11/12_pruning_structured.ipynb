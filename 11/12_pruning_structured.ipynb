{
  "nbformat": 4,
  "nbformat_minor": 0,
  "metadata": {
    "colab": {
      "provenance": [],
      "machine_shape": "hm",
      "authorship_tag": "ABX9TyOZp3WcOLiyUgt4G4rn7HrZ",
      "include_colab_link": true
    },
    "kernelspec": {
      "name": "python3",
      "display_name": "Python 3"
    },
    "language_info": {
      "name": "python"
    },
    "widgets": {
      "application/vnd.jupyter.widget-state+json": {
        "0257092d9b6c4d7198bff83ff296a251": {
          "model_module": "@jupyter-widgets/controls",
          "model_name": "HBoxModel",
          "model_module_version": "1.5.0",
          "state": {
            "_dom_classes": [],
            "_model_module": "@jupyter-widgets/controls",
            "_model_module_version": "1.5.0",
            "_model_name": "HBoxModel",
            "_view_count": null,
            "_view_module": "@jupyter-widgets/controls",
            "_view_module_version": "1.5.0",
            "_view_name": "HBoxView",
            "box_style": "",
            "children": [
              "IPY_MODEL_287a5437f3214dc195b4195173a26595",
              "IPY_MODEL_36c51dc39bff4e72ae76ccc9b4ead02f",
              "IPY_MODEL_187604b365bf47fa9de9f40c595acca4"
            ],
            "layout": "IPY_MODEL_fb60deb1fd1a41329fef5d20fe79be51"
          }
        },
        "287a5437f3214dc195b4195173a26595": {
          "model_module": "@jupyter-widgets/controls",
          "model_name": "HTMLModel",
          "model_module_version": "1.5.0",
          "state": {
            "_dom_classes": [],
            "_model_module": "@jupyter-widgets/controls",
            "_model_module_version": "1.5.0",
            "_model_name": "HTMLModel",
            "_view_count": null,
            "_view_module": "@jupyter-widgets/controls",
            "_view_module_version": "1.5.0",
            "_view_name": "HTMLView",
            "description": "",
            "description_tooltip": null,
            "layout": "IPY_MODEL_fe4d0947584142c9bcc713f226665363",
            "placeholder": "​",
            "style": "IPY_MODEL_a1301b728aa240b98978a2d82e01de4c",
            "value": "config.json: 100%"
          }
        },
        "36c51dc39bff4e72ae76ccc9b4ead02f": {
          "model_module": "@jupyter-widgets/controls",
          "model_name": "FloatProgressModel",
          "model_module_version": "1.5.0",
          "state": {
            "_dom_classes": [],
            "_model_module": "@jupyter-widgets/controls",
            "_model_module_version": "1.5.0",
            "_model_name": "FloatProgressModel",
            "_view_count": null,
            "_view_module": "@jupyter-widgets/controls",
            "_view_module_version": "1.5.0",
            "_view_name": "ProgressView",
            "bar_style": "success",
            "description": "",
            "description_tooltip": null,
            "layout": "IPY_MODEL_82cc43cf83854c11812a32d676ea1a08",
            "max": 715,
            "min": 0,
            "orientation": "horizontal",
            "style": "IPY_MODEL_a7f91dd7f5844f78a4348468b06714b2",
            "value": 715
          }
        },
        "187604b365bf47fa9de9f40c595acca4": {
          "model_module": "@jupyter-widgets/controls",
          "model_name": "HTMLModel",
          "model_module_version": "1.5.0",
          "state": {
            "_dom_classes": [],
            "_model_module": "@jupyter-widgets/controls",
            "_model_module_version": "1.5.0",
            "_model_name": "HTMLModel",
            "_view_count": null,
            "_view_module": "@jupyter-widgets/controls",
            "_view_module_version": "1.5.0",
            "_view_name": "HTMLView",
            "description": "",
            "description_tooltip": null,
            "layout": "IPY_MODEL_9d7189bb6f2e480ab4d47fe2efa8ab0b",
            "placeholder": "​",
            "style": "IPY_MODEL_da1125c3603b4a46b5bdedba9c95b6c4",
            "value": " 715/715 [00:00&lt;00:00, 60.9kB/s]"
          }
        },
        "fb60deb1fd1a41329fef5d20fe79be51": {
          "model_module": "@jupyter-widgets/base",
          "model_name": "LayoutModel",
          "model_module_version": "1.2.0",
          "state": {
            "_model_module": "@jupyter-widgets/base",
            "_model_module_version": "1.2.0",
            "_model_name": "LayoutModel",
            "_view_count": null,
            "_view_module": "@jupyter-widgets/base",
            "_view_module_version": "1.2.0",
            "_view_name": "LayoutView",
            "align_content": null,
            "align_items": null,
            "align_self": null,
            "border": null,
            "bottom": null,
            "display": null,
            "flex": null,
            "flex_flow": null,
            "grid_area": null,
            "grid_auto_columns": null,
            "grid_auto_flow": null,
            "grid_auto_rows": null,
            "grid_column": null,
            "grid_gap": null,
            "grid_row": null,
            "grid_template_areas": null,
            "grid_template_columns": null,
            "grid_template_rows": null,
            "height": null,
            "justify_content": null,
            "justify_items": null,
            "left": null,
            "margin": null,
            "max_height": null,
            "max_width": null,
            "min_height": null,
            "min_width": null,
            "object_fit": null,
            "object_position": null,
            "order": null,
            "overflow": null,
            "overflow_x": null,
            "overflow_y": null,
            "padding": null,
            "right": null,
            "top": null,
            "visibility": null,
            "width": null
          }
        },
        "fe4d0947584142c9bcc713f226665363": {
          "model_module": "@jupyter-widgets/base",
          "model_name": "LayoutModel",
          "model_module_version": "1.2.0",
          "state": {
            "_model_module": "@jupyter-widgets/base",
            "_model_module_version": "1.2.0",
            "_model_name": "LayoutModel",
            "_view_count": null,
            "_view_module": "@jupyter-widgets/base",
            "_view_module_version": "1.2.0",
            "_view_name": "LayoutView",
            "align_content": null,
            "align_items": null,
            "align_self": null,
            "border": null,
            "bottom": null,
            "display": null,
            "flex": null,
            "flex_flow": null,
            "grid_area": null,
            "grid_auto_columns": null,
            "grid_auto_flow": null,
            "grid_auto_rows": null,
            "grid_column": null,
            "grid_gap": null,
            "grid_row": null,
            "grid_template_areas": null,
            "grid_template_columns": null,
            "grid_template_rows": null,
            "height": null,
            "justify_content": null,
            "justify_items": null,
            "left": null,
            "margin": null,
            "max_height": null,
            "max_width": null,
            "min_height": null,
            "min_width": null,
            "object_fit": null,
            "object_position": null,
            "order": null,
            "overflow": null,
            "overflow_x": null,
            "overflow_y": null,
            "padding": null,
            "right": null,
            "top": null,
            "visibility": null,
            "width": null
          }
        },
        "a1301b728aa240b98978a2d82e01de4c": {
          "model_module": "@jupyter-widgets/controls",
          "model_name": "DescriptionStyleModel",
          "model_module_version": "1.5.0",
          "state": {
            "_model_module": "@jupyter-widgets/controls",
            "_model_module_version": "1.5.0",
            "_model_name": "DescriptionStyleModel",
            "_view_count": null,
            "_view_module": "@jupyter-widgets/base",
            "_view_module_version": "1.2.0",
            "_view_name": "StyleView",
            "description_width": ""
          }
        },
        "82cc43cf83854c11812a32d676ea1a08": {
          "model_module": "@jupyter-widgets/base",
          "model_name": "LayoutModel",
          "model_module_version": "1.2.0",
          "state": {
            "_model_module": "@jupyter-widgets/base",
            "_model_module_version": "1.2.0",
            "_model_name": "LayoutModel",
            "_view_count": null,
            "_view_module": "@jupyter-widgets/base",
            "_view_module_version": "1.2.0",
            "_view_name": "LayoutView",
            "align_content": null,
            "align_items": null,
            "align_self": null,
            "border": null,
            "bottom": null,
            "display": null,
            "flex": null,
            "flex_flow": null,
            "grid_area": null,
            "grid_auto_columns": null,
            "grid_auto_flow": null,
            "grid_auto_rows": null,
            "grid_column": null,
            "grid_gap": null,
            "grid_row": null,
            "grid_template_areas": null,
            "grid_template_columns": null,
            "grid_template_rows": null,
            "height": null,
            "justify_content": null,
            "justify_items": null,
            "left": null,
            "margin": null,
            "max_height": null,
            "max_width": null,
            "min_height": null,
            "min_width": null,
            "object_fit": null,
            "object_position": null,
            "order": null,
            "overflow": null,
            "overflow_x": null,
            "overflow_y": null,
            "padding": null,
            "right": null,
            "top": null,
            "visibility": null,
            "width": null
          }
        },
        "a7f91dd7f5844f78a4348468b06714b2": {
          "model_module": "@jupyter-widgets/controls",
          "model_name": "ProgressStyleModel",
          "model_module_version": "1.5.0",
          "state": {
            "_model_module": "@jupyter-widgets/controls",
            "_model_module_version": "1.5.0",
            "_model_name": "ProgressStyleModel",
            "_view_count": null,
            "_view_module": "@jupyter-widgets/base",
            "_view_module_version": "1.2.0",
            "_view_name": "StyleView",
            "bar_color": null,
            "description_width": ""
          }
        },
        "9d7189bb6f2e480ab4d47fe2efa8ab0b": {
          "model_module": "@jupyter-widgets/base",
          "model_name": "LayoutModel",
          "model_module_version": "1.2.0",
          "state": {
            "_model_module": "@jupyter-widgets/base",
            "_model_module_version": "1.2.0",
            "_model_name": "LayoutModel",
            "_view_count": null,
            "_view_module": "@jupyter-widgets/base",
            "_view_module_version": "1.2.0",
            "_view_name": "LayoutView",
            "align_content": null,
            "align_items": null,
            "align_self": null,
            "border": null,
            "bottom": null,
            "display": null,
            "flex": null,
            "flex_flow": null,
            "grid_area": null,
            "grid_auto_columns": null,
            "grid_auto_flow": null,
            "grid_auto_rows": null,
            "grid_column": null,
            "grid_gap": null,
            "grid_row": null,
            "grid_template_areas": null,
            "grid_template_columns": null,
            "grid_template_rows": null,
            "height": null,
            "justify_content": null,
            "justify_items": null,
            "left": null,
            "margin": null,
            "max_height": null,
            "max_width": null,
            "min_height": null,
            "min_width": null,
            "object_fit": null,
            "object_position": null,
            "order": null,
            "overflow": null,
            "overflow_x": null,
            "overflow_y": null,
            "padding": null,
            "right": null,
            "top": null,
            "visibility": null,
            "width": null
          }
        },
        "da1125c3603b4a46b5bdedba9c95b6c4": {
          "model_module": "@jupyter-widgets/controls",
          "model_name": "DescriptionStyleModel",
          "model_module_version": "1.5.0",
          "state": {
            "_model_module": "@jupyter-widgets/controls",
            "_model_module_version": "1.5.0",
            "_model_name": "DescriptionStyleModel",
            "_view_count": null,
            "_view_module": "@jupyter-widgets/base",
            "_view_module_version": "1.2.0",
            "_view_name": "StyleView",
            "description_width": ""
          }
        },
        "60672b97d8bc46949ab1f6951ab02523": {
          "model_module": "@jupyter-widgets/controls",
          "model_name": "HBoxModel",
          "model_module_version": "1.5.0",
          "state": {
            "_dom_classes": [],
            "_model_module": "@jupyter-widgets/controls",
            "_model_module_version": "1.5.0",
            "_model_name": "HBoxModel",
            "_view_count": null,
            "_view_module": "@jupyter-widgets/controls",
            "_view_module_version": "1.5.0",
            "_view_name": "HBoxView",
            "box_style": "",
            "children": [
              "IPY_MODEL_dfef5e688da84663867e25bbf0a4cb7b",
              "IPY_MODEL_1b84383961764604b9edd65b09794c92",
              "IPY_MODEL_d403926bf01f4a98957041b5f5d57a3d"
            ],
            "layout": "IPY_MODEL_e62b021edc0d4bbe98a8bdf8d5940fb9"
          }
        },
        "dfef5e688da84663867e25bbf0a4cb7b": {
          "model_module": "@jupyter-widgets/controls",
          "model_name": "HTMLModel",
          "model_module_version": "1.5.0",
          "state": {
            "_dom_classes": [],
            "_model_module": "@jupyter-widgets/controls",
            "_model_module_version": "1.5.0",
            "_model_name": "HTMLModel",
            "_view_count": null,
            "_view_module": "@jupyter-widgets/controls",
            "_view_module_version": "1.5.0",
            "_view_name": "HTMLView",
            "description": "",
            "description_tooltip": null,
            "layout": "IPY_MODEL_a01655ba003e4c949a9b65b23ca1e7c8",
            "placeholder": "​",
            "style": "IPY_MODEL_e795934b959446e889debbed10e4cf91",
            "value": "model.safetensors: 100%"
          }
        },
        "1b84383961764604b9edd65b09794c92": {
          "model_module": "@jupyter-widgets/controls",
          "model_name": "FloatProgressModel",
          "model_module_version": "1.5.0",
          "state": {
            "_dom_classes": [],
            "_model_module": "@jupyter-widgets/controls",
            "_model_module_version": "1.5.0",
            "_model_name": "FloatProgressModel",
            "_view_count": null,
            "_view_module": "@jupyter-widgets/controls",
            "_view_module_version": "1.5.0",
            "_view_name": "ProgressView",
            "bar_style": "success",
            "description": "",
            "description_tooltip": null,
            "layout": "IPY_MODEL_a4267d74f14a4fb192080238b2f0c8b3",
            "max": 1118459450,
            "min": 0,
            "orientation": "horizontal",
            "style": "IPY_MODEL_4f5c1afd61774643b146f7ff73749966",
            "value": 1118459450
          }
        },
        "d403926bf01f4a98957041b5f5d57a3d": {
          "model_module": "@jupyter-widgets/controls",
          "model_name": "HTMLModel",
          "model_module_version": "1.5.0",
          "state": {
            "_dom_classes": [],
            "_model_module": "@jupyter-widgets/controls",
            "_model_module_version": "1.5.0",
            "_model_name": "HTMLModel",
            "_view_count": null,
            "_view_module": "@jupyter-widgets/controls",
            "_view_module_version": "1.5.0",
            "_view_name": "HTMLView",
            "description": "",
            "description_tooltip": null,
            "layout": "IPY_MODEL_64a7f8738fbc4d97a6b85158f956a839",
            "placeholder": "​",
            "style": "IPY_MODEL_593cbdddbddf4711abac6c64b0c595da",
            "value": " 1.12G/1.12G [00:02&lt;00:00, 402MB/s]"
          }
        },
        "e62b021edc0d4bbe98a8bdf8d5940fb9": {
          "model_module": "@jupyter-widgets/base",
          "model_name": "LayoutModel",
          "model_module_version": "1.2.0",
          "state": {
            "_model_module": "@jupyter-widgets/base",
            "_model_module_version": "1.2.0",
            "_model_name": "LayoutModel",
            "_view_count": null,
            "_view_module": "@jupyter-widgets/base",
            "_view_module_version": "1.2.0",
            "_view_name": "LayoutView",
            "align_content": null,
            "align_items": null,
            "align_self": null,
            "border": null,
            "bottom": null,
            "display": null,
            "flex": null,
            "flex_flow": null,
            "grid_area": null,
            "grid_auto_columns": null,
            "grid_auto_flow": null,
            "grid_auto_rows": null,
            "grid_column": null,
            "grid_gap": null,
            "grid_row": null,
            "grid_template_areas": null,
            "grid_template_columns": null,
            "grid_template_rows": null,
            "height": null,
            "justify_content": null,
            "justify_items": null,
            "left": null,
            "margin": null,
            "max_height": null,
            "max_width": null,
            "min_height": null,
            "min_width": null,
            "object_fit": null,
            "object_position": null,
            "order": null,
            "overflow": null,
            "overflow_x": null,
            "overflow_y": null,
            "padding": null,
            "right": null,
            "top": null,
            "visibility": null,
            "width": null
          }
        },
        "a01655ba003e4c949a9b65b23ca1e7c8": {
          "model_module": "@jupyter-widgets/base",
          "model_name": "LayoutModel",
          "model_module_version": "1.2.0",
          "state": {
            "_model_module": "@jupyter-widgets/base",
            "_model_module_version": "1.2.0",
            "_model_name": "LayoutModel",
            "_view_count": null,
            "_view_module": "@jupyter-widgets/base",
            "_view_module_version": "1.2.0",
            "_view_name": "LayoutView",
            "align_content": null,
            "align_items": null,
            "align_self": null,
            "border": null,
            "bottom": null,
            "display": null,
            "flex": null,
            "flex_flow": null,
            "grid_area": null,
            "grid_auto_columns": null,
            "grid_auto_flow": null,
            "grid_auto_rows": null,
            "grid_column": null,
            "grid_gap": null,
            "grid_row": null,
            "grid_template_areas": null,
            "grid_template_columns": null,
            "grid_template_rows": null,
            "height": null,
            "justify_content": null,
            "justify_items": null,
            "left": null,
            "margin": null,
            "max_height": null,
            "max_width": null,
            "min_height": null,
            "min_width": null,
            "object_fit": null,
            "object_position": null,
            "order": null,
            "overflow": null,
            "overflow_x": null,
            "overflow_y": null,
            "padding": null,
            "right": null,
            "top": null,
            "visibility": null,
            "width": null
          }
        },
        "e795934b959446e889debbed10e4cf91": {
          "model_module": "@jupyter-widgets/controls",
          "model_name": "DescriptionStyleModel",
          "model_module_version": "1.5.0",
          "state": {
            "_model_module": "@jupyter-widgets/controls",
            "_model_module_version": "1.5.0",
            "_model_name": "DescriptionStyleModel",
            "_view_count": null,
            "_view_module": "@jupyter-widgets/base",
            "_view_module_version": "1.2.0",
            "_view_name": "StyleView",
            "description_width": ""
          }
        },
        "a4267d74f14a4fb192080238b2f0c8b3": {
          "model_module": "@jupyter-widgets/base",
          "model_name": "LayoutModel",
          "model_module_version": "1.2.0",
          "state": {
            "_model_module": "@jupyter-widgets/base",
            "_model_module_version": "1.2.0",
            "_model_name": "LayoutModel",
            "_view_count": null,
            "_view_module": "@jupyter-widgets/base",
            "_view_module_version": "1.2.0",
            "_view_name": "LayoutView",
            "align_content": null,
            "align_items": null,
            "align_self": null,
            "border": null,
            "bottom": null,
            "display": null,
            "flex": null,
            "flex_flow": null,
            "grid_area": null,
            "grid_auto_columns": null,
            "grid_auto_flow": null,
            "grid_auto_rows": null,
            "grid_column": null,
            "grid_gap": null,
            "grid_row": null,
            "grid_template_areas": null,
            "grid_template_columns": null,
            "grid_template_rows": null,
            "height": null,
            "justify_content": null,
            "justify_items": null,
            "left": null,
            "margin": null,
            "max_height": null,
            "max_width": null,
            "min_height": null,
            "min_width": null,
            "object_fit": null,
            "object_position": null,
            "order": null,
            "overflow": null,
            "overflow_x": null,
            "overflow_y": null,
            "padding": null,
            "right": null,
            "top": null,
            "visibility": null,
            "width": null
          }
        },
        "4f5c1afd61774643b146f7ff73749966": {
          "model_module": "@jupyter-widgets/controls",
          "model_name": "ProgressStyleModel",
          "model_module_version": "1.5.0",
          "state": {
            "_model_module": "@jupyter-widgets/controls",
            "_model_module_version": "1.5.0",
            "_model_name": "ProgressStyleModel",
            "_view_count": null,
            "_view_module": "@jupyter-widgets/base",
            "_view_module_version": "1.2.0",
            "_view_name": "StyleView",
            "bar_color": null,
            "description_width": ""
          }
        },
        "64a7f8738fbc4d97a6b85158f956a839": {
          "model_module": "@jupyter-widgets/base",
          "model_name": "LayoutModel",
          "model_module_version": "1.2.0",
          "state": {
            "_model_module": "@jupyter-widgets/base",
            "_model_module_version": "1.2.0",
            "_model_name": "LayoutModel",
            "_view_count": null,
            "_view_module": "@jupyter-widgets/base",
            "_view_module_version": "1.2.0",
            "_view_name": "LayoutView",
            "align_content": null,
            "align_items": null,
            "align_self": null,
            "border": null,
            "bottom": null,
            "display": null,
            "flex": null,
            "flex_flow": null,
            "grid_area": null,
            "grid_auto_columns": null,
            "grid_auto_flow": null,
            "grid_auto_rows": null,
            "grid_column": null,
            "grid_gap": null,
            "grid_row": null,
            "grid_template_areas": null,
            "grid_template_columns": null,
            "grid_template_rows": null,
            "height": null,
            "justify_content": null,
            "justify_items": null,
            "left": null,
            "margin": null,
            "max_height": null,
            "max_width": null,
            "min_height": null,
            "min_width": null,
            "object_fit": null,
            "object_position": null,
            "order": null,
            "overflow": null,
            "overflow_x": null,
            "overflow_y": null,
            "padding": null,
            "right": null,
            "top": null,
            "visibility": null,
            "width": null
          }
        },
        "593cbdddbddf4711abac6c64b0c595da": {
          "model_module": "@jupyter-widgets/controls",
          "model_name": "DescriptionStyleModel",
          "model_module_version": "1.5.0",
          "state": {
            "_model_module": "@jupyter-widgets/controls",
            "_model_module_version": "1.5.0",
            "_model_name": "DescriptionStyleModel",
            "_view_count": null,
            "_view_module": "@jupyter-widgets/base",
            "_view_module_version": "1.2.0",
            "_view_name": "StyleView",
            "description_width": ""
          }
        },
        "c43cb56006b4479c86bb270826cdfea8": {
          "model_module": "@jupyter-widgets/controls",
          "model_name": "HBoxModel",
          "model_module_version": "1.5.0",
          "state": {
            "_dom_classes": [],
            "_model_module": "@jupyter-widgets/controls",
            "_model_module_version": "1.5.0",
            "_model_name": "HBoxModel",
            "_view_count": null,
            "_view_module": "@jupyter-widgets/controls",
            "_view_module_version": "1.5.0",
            "_view_name": "HBoxView",
            "box_style": "",
            "children": [
              "IPY_MODEL_480ff3bd57cf4d06827a10f3861beac0",
              "IPY_MODEL_e7aa6fd8d5e74d44a35b3e69f1623795",
              "IPY_MODEL_7c074b768b194f35897501d509536d32"
            ],
            "layout": "IPY_MODEL_cfa349e4dd344f1ea3a3cd46f8df84ba"
          }
        },
        "480ff3bd57cf4d06827a10f3861beac0": {
          "model_module": "@jupyter-widgets/controls",
          "model_name": "HTMLModel",
          "model_module_version": "1.5.0",
          "state": {
            "_dom_classes": [],
            "_model_module": "@jupyter-widgets/controls",
            "_model_module_version": "1.5.0",
            "_model_name": "HTMLModel",
            "_view_count": null,
            "_view_module": "@jupyter-widgets/controls",
            "_view_module_version": "1.5.0",
            "_view_name": "HTMLView",
            "description": "",
            "description_tooltip": null,
            "layout": "IPY_MODEL_6d1ba5a6bf2a4e91a12b55330d23159b",
            "placeholder": "​",
            "style": "IPY_MODEL_0e0f2cd77c6d4ba587c614fdac4ba4af",
            "value": "tokenizer_config.json: 100%"
          }
        },
        "e7aa6fd8d5e74d44a35b3e69f1623795": {
          "model_module": "@jupyter-widgets/controls",
          "model_name": "FloatProgressModel",
          "model_module_version": "1.5.0",
          "state": {
            "_dom_classes": [],
            "_model_module": "@jupyter-widgets/controls",
            "_model_module_version": "1.5.0",
            "_model_name": "FloatProgressModel",
            "_view_count": null,
            "_view_module": "@jupyter-widgets/controls",
            "_view_module_version": "1.5.0",
            "_view_name": "ProgressView",
            "bar_style": "success",
            "description": "",
            "description_tooltip": null,
            "layout": "IPY_MODEL_6c2b3a7b1a9d47fd84fc5e7a3cd84af7",
            "max": 222,
            "min": 0,
            "orientation": "horizontal",
            "style": "IPY_MODEL_e58921ebf0f14c0fb71e395936bc4898",
            "value": 222
          }
        },
        "7c074b768b194f35897501d509536d32": {
          "model_module": "@jupyter-widgets/controls",
          "model_name": "HTMLModel",
          "model_module_version": "1.5.0",
          "state": {
            "_dom_classes": [],
            "_model_module": "@jupyter-widgets/controls",
            "_model_module_version": "1.5.0",
            "_model_name": "HTMLModel",
            "_view_count": null,
            "_view_module": "@jupyter-widgets/controls",
            "_view_module_version": "1.5.0",
            "_view_name": "HTMLView",
            "description": "",
            "description_tooltip": null,
            "layout": "IPY_MODEL_7adcc9b761f74e869dc14f739a73ac4f",
            "placeholder": "​",
            "style": "IPY_MODEL_7d6199c31fa541439ec56711ab77aa18",
            "value": " 222/222 [00:00&lt;00:00, 19.7kB/s]"
          }
        },
        "cfa349e4dd344f1ea3a3cd46f8df84ba": {
          "model_module": "@jupyter-widgets/base",
          "model_name": "LayoutModel",
          "model_module_version": "1.2.0",
          "state": {
            "_model_module": "@jupyter-widgets/base",
            "_model_module_version": "1.2.0",
            "_model_name": "LayoutModel",
            "_view_count": null,
            "_view_module": "@jupyter-widgets/base",
            "_view_module_version": "1.2.0",
            "_view_name": "LayoutView",
            "align_content": null,
            "align_items": null,
            "align_self": null,
            "border": null,
            "bottom": null,
            "display": null,
            "flex": null,
            "flex_flow": null,
            "grid_area": null,
            "grid_auto_columns": null,
            "grid_auto_flow": null,
            "grid_auto_rows": null,
            "grid_column": null,
            "grid_gap": null,
            "grid_row": null,
            "grid_template_areas": null,
            "grid_template_columns": null,
            "grid_template_rows": null,
            "height": null,
            "justify_content": null,
            "justify_items": null,
            "left": null,
            "margin": null,
            "max_height": null,
            "max_width": null,
            "min_height": null,
            "min_width": null,
            "object_fit": null,
            "object_position": null,
            "order": null,
            "overflow": null,
            "overflow_x": null,
            "overflow_y": null,
            "padding": null,
            "right": null,
            "top": null,
            "visibility": null,
            "width": null
          }
        },
        "6d1ba5a6bf2a4e91a12b55330d23159b": {
          "model_module": "@jupyter-widgets/base",
          "model_name": "LayoutModel",
          "model_module_version": "1.2.0",
          "state": {
            "_model_module": "@jupyter-widgets/base",
            "_model_module_version": "1.2.0",
            "_model_name": "LayoutModel",
            "_view_count": null,
            "_view_module": "@jupyter-widgets/base",
            "_view_module_version": "1.2.0",
            "_view_name": "LayoutView",
            "align_content": null,
            "align_items": null,
            "align_self": null,
            "border": null,
            "bottom": null,
            "display": null,
            "flex": null,
            "flex_flow": null,
            "grid_area": null,
            "grid_auto_columns": null,
            "grid_auto_flow": null,
            "grid_auto_rows": null,
            "grid_column": null,
            "grid_gap": null,
            "grid_row": null,
            "grid_template_areas": null,
            "grid_template_columns": null,
            "grid_template_rows": null,
            "height": null,
            "justify_content": null,
            "justify_items": null,
            "left": null,
            "margin": null,
            "max_height": null,
            "max_width": null,
            "min_height": null,
            "min_width": null,
            "object_fit": null,
            "object_position": null,
            "order": null,
            "overflow": null,
            "overflow_x": null,
            "overflow_y": null,
            "padding": null,
            "right": null,
            "top": null,
            "visibility": null,
            "width": null
          }
        },
        "0e0f2cd77c6d4ba587c614fdac4ba4af": {
          "model_module": "@jupyter-widgets/controls",
          "model_name": "DescriptionStyleModel",
          "model_module_version": "1.5.0",
          "state": {
            "_model_module": "@jupyter-widgets/controls",
            "_model_module_version": "1.5.0",
            "_model_name": "DescriptionStyleModel",
            "_view_count": null,
            "_view_module": "@jupyter-widgets/base",
            "_view_module_version": "1.2.0",
            "_view_name": "StyleView",
            "description_width": ""
          }
        },
        "6c2b3a7b1a9d47fd84fc5e7a3cd84af7": {
          "model_module": "@jupyter-widgets/base",
          "model_name": "LayoutModel",
          "model_module_version": "1.2.0",
          "state": {
            "_model_module": "@jupyter-widgets/base",
            "_model_module_version": "1.2.0",
            "_model_name": "LayoutModel",
            "_view_count": null,
            "_view_module": "@jupyter-widgets/base",
            "_view_module_version": "1.2.0",
            "_view_name": "LayoutView",
            "align_content": null,
            "align_items": null,
            "align_self": null,
            "border": null,
            "bottom": null,
            "display": null,
            "flex": null,
            "flex_flow": null,
            "grid_area": null,
            "grid_auto_columns": null,
            "grid_auto_flow": null,
            "grid_auto_rows": null,
            "grid_column": null,
            "grid_gap": null,
            "grid_row": null,
            "grid_template_areas": null,
            "grid_template_columns": null,
            "grid_template_rows": null,
            "height": null,
            "justify_content": null,
            "justify_items": null,
            "left": null,
            "margin": null,
            "max_height": null,
            "max_width": null,
            "min_height": null,
            "min_width": null,
            "object_fit": null,
            "object_position": null,
            "order": null,
            "overflow": null,
            "overflow_x": null,
            "overflow_y": null,
            "padding": null,
            "right": null,
            "top": null,
            "visibility": null,
            "width": null
          }
        },
        "e58921ebf0f14c0fb71e395936bc4898": {
          "model_module": "@jupyter-widgets/controls",
          "model_name": "ProgressStyleModel",
          "model_module_version": "1.5.0",
          "state": {
            "_model_module": "@jupyter-widgets/controls",
            "_model_module_version": "1.5.0",
            "_model_name": "ProgressStyleModel",
            "_view_count": null,
            "_view_module": "@jupyter-widgets/base",
            "_view_module_version": "1.2.0",
            "_view_name": "StyleView",
            "bar_color": null,
            "description_width": ""
          }
        },
        "7adcc9b761f74e869dc14f739a73ac4f": {
          "model_module": "@jupyter-widgets/base",
          "model_name": "LayoutModel",
          "model_module_version": "1.2.0",
          "state": {
            "_model_module": "@jupyter-widgets/base",
            "_model_module_version": "1.2.0",
            "_model_name": "LayoutModel",
            "_view_count": null,
            "_view_module": "@jupyter-widgets/base",
            "_view_module_version": "1.2.0",
            "_view_name": "LayoutView",
            "align_content": null,
            "align_items": null,
            "align_self": null,
            "border": null,
            "bottom": null,
            "display": null,
            "flex": null,
            "flex_flow": null,
            "grid_area": null,
            "grid_auto_columns": null,
            "grid_auto_flow": null,
            "grid_auto_rows": null,
            "grid_column": null,
            "grid_gap": null,
            "grid_row": null,
            "grid_template_areas": null,
            "grid_template_columns": null,
            "grid_template_rows": null,
            "height": null,
            "justify_content": null,
            "justify_items": null,
            "left": null,
            "margin": null,
            "max_height": null,
            "max_width": null,
            "min_height": null,
            "min_width": null,
            "object_fit": null,
            "object_position": null,
            "order": null,
            "overflow": null,
            "overflow_x": null,
            "overflow_y": null,
            "padding": null,
            "right": null,
            "top": null,
            "visibility": null,
            "width": null
          }
        },
        "7d6199c31fa541439ec56711ab77aa18": {
          "model_module": "@jupyter-widgets/controls",
          "model_name": "DescriptionStyleModel",
          "model_module_version": "1.5.0",
          "state": {
            "_model_module": "@jupyter-widgets/controls",
            "_model_module_version": "1.5.0",
            "_model_name": "DescriptionStyleModel",
            "_view_count": null,
            "_view_module": "@jupyter-widgets/base",
            "_view_module_version": "1.2.0",
            "_view_name": "StyleView",
            "description_width": ""
          }
        },
        "dad22ff33c2d4149a658c28d77cd1b11": {
          "model_module": "@jupyter-widgets/controls",
          "model_name": "HBoxModel",
          "model_module_version": "1.5.0",
          "state": {
            "_dom_classes": [],
            "_model_module": "@jupyter-widgets/controls",
            "_model_module_version": "1.5.0",
            "_model_name": "HBoxModel",
            "_view_count": null,
            "_view_module": "@jupyter-widgets/controls",
            "_view_module_version": "1.5.0",
            "_view_name": "HBoxView",
            "box_style": "",
            "children": [
              "IPY_MODEL_ba8724d7c1534cd29aea63e7ea3a2c2c",
              "IPY_MODEL_a8b02efbe73f4d19992758f01c4184a4",
              "IPY_MODEL_5a41c41517664df4a2724c6a6950d7b7"
            ],
            "layout": "IPY_MODEL_a15bf00f9268445698ad6efb6db71151"
          }
        },
        "ba8724d7c1534cd29aea63e7ea3a2c2c": {
          "model_module": "@jupyter-widgets/controls",
          "model_name": "HTMLModel",
          "model_module_version": "1.5.0",
          "state": {
            "_dom_classes": [],
            "_model_module": "@jupyter-widgets/controls",
            "_model_module_version": "1.5.0",
            "_model_name": "HTMLModel",
            "_view_count": null,
            "_view_module": "@jupyter-widgets/controls",
            "_view_module_version": "1.5.0",
            "_view_name": "HTMLView",
            "description": "",
            "description_tooltip": null,
            "layout": "IPY_MODEL_47612e45d0e74e79bde4f35f9904e48a",
            "placeholder": "​",
            "style": "IPY_MODEL_faa78c90e1de489b8d84b649ee008393",
            "value": "tokenizer.json: 100%"
          }
        },
        "a8b02efbe73f4d19992758f01c4184a4": {
          "model_module": "@jupyter-widgets/controls",
          "model_name": "FloatProgressModel",
          "model_module_version": "1.5.0",
          "state": {
            "_dom_classes": [],
            "_model_module": "@jupyter-widgets/controls",
            "_model_module_version": "1.5.0",
            "_model_name": "FloatProgressModel",
            "_view_count": null,
            "_view_module": "@jupyter-widgets/controls",
            "_view_module_version": "1.5.0",
            "_view_name": "ProgressView",
            "bar_style": "success",
            "description": "",
            "description_tooltip": null,
            "layout": "IPY_MODEL_593985f8dd984eb4a05e4b3cf84d5dd4",
            "max": 14500438,
            "min": 0,
            "orientation": "horizontal",
            "style": "IPY_MODEL_5b26fdbe4d1c48dbb0115cb9bee4ee8c",
            "value": 14500438
          }
        },
        "5a41c41517664df4a2724c6a6950d7b7": {
          "model_module": "@jupyter-widgets/controls",
          "model_name": "HTMLModel",
          "model_module_version": "1.5.0",
          "state": {
            "_dom_classes": [],
            "_model_module": "@jupyter-widgets/controls",
            "_model_module_version": "1.5.0",
            "_model_name": "HTMLModel",
            "_view_count": null,
            "_view_module": "@jupyter-widgets/controls",
            "_view_module_version": "1.5.0",
            "_view_name": "HTMLView",
            "description": "",
            "description_tooltip": null,
            "layout": "IPY_MODEL_ec7c09f846664a9a92a2a47739d2fcc3",
            "placeholder": "​",
            "style": "IPY_MODEL_718e75b48edd4b6e9b24057fb07042a2",
            "value": " 14.5M/14.5M [00:00&lt;00:00, 288MB/s]"
          }
        },
        "a15bf00f9268445698ad6efb6db71151": {
          "model_module": "@jupyter-widgets/base",
          "model_name": "LayoutModel",
          "model_module_version": "1.2.0",
          "state": {
            "_model_module": "@jupyter-widgets/base",
            "_model_module_version": "1.2.0",
            "_model_name": "LayoutModel",
            "_view_count": null,
            "_view_module": "@jupyter-widgets/base",
            "_view_module_version": "1.2.0",
            "_view_name": "LayoutView",
            "align_content": null,
            "align_items": null,
            "align_self": null,
            "border": null,
            "bottom": null,
            "display": null,
            "flex": null,
            "flex_flow": null,
            "grid_area": null,
            "grid_auto_columns": null,
            "grid_auto_flow": null,
            "grid_auto_rows": null,
            "grid_column": null,
            "grid_gap": null,
            "grid_row": null,
            "grid_template_areas": null,
            "grid_template_columns": null,
            "grid_template_rows": null,
            "height": null,
            "justify_content": null,
            "justify_items": null,
            "left": null,
            "margin": null,
            "max_height": null,
            "max_width": null,
            "min_height": null,
            "min_width": null,
            "object_fit": null,
            "object_position": null,
            "order": null,
            "overflow": null,
            "overflow_x": null,
            "overflow_y": null,
            "padding": null,
            "right": null,
            "top": null,
            "visibility": null,
            "width": null
          }
        },
        "47612e45d0e74e79bde4f35f9904e48a": {
          "model_module": "@jupyter-widgets/base",
          "model_name": "LayoutModel",
          "model_module_version": "1.2.0",
          "state": {
            "_model_module": "@jupyter-widgets/base",
            "_model_module_version": "1.2.0",
            "_model_name": "LayoutModel",
            "_view_count": null,
            "_view_module": "@jupyter-widgets/base",
            "_view_module_version": "1.2.0",
            "_view_name": "LayoutView",
            "align_content": null,
            "align_items": null,
            "align_self": null,
            "border": null,
            "bottom": null,
            "display": null,
            "flex": null,
            "flex_flow": null,
            "grid_area": null,
            "grid_auto_columns": null,
            "grid_auto_flow": null,
            "grid_auto_rows": null,
            "grid_column": null,
            "grid_gap": null,
            "grid_row": null,
            "grid_template_areas": null,
            "grid_template_columns": null,
            "grid_template_rows": null,
            "height": null,
            "justify_content": null,
            "justify_items": null,
            "left": null,
            "margin": null,
            "max_height": null,
            "max_width": null,
            "min_height": null,
            "min_width": null,
            "object_fit": null,
            "object_position": null,
            "order": null,
            "overflow": null,
            "overflow_x": null,
            "overflow_y": null,
            "padding": null,
            "right": null,
            "top": null,
            "visibility": null,
            "width": null
          }
        },
        "faa78c90e1de489b8d84b649ee008393": {
          "model_module": "@jupyter-widgets/controls",
          "model_name": "DescriptionStyleModel",
          "model_module_version": "1.5.0",
          "state": {
            "_model_module": "@jupyter-widgets/controls",
            "_model_module_version": "1.5.0",
            "_model_name": "DescriptionStyleModel",
            "_view_count": null,
            "_view_module": "@jupyter-widgets/base",
            "_view_module_version": "1.2.0",
            "_view_name": "StyleView",
            "description_width": ""
          }
        },
        "593985f8dd984eb4a05e4b3cf84d5dd4": {
          "model_module": "@jupyter-widgets/base",
          "model_name": "LayoutModel",
          "model_module_version": "1.2.0",
          "state": {
            "_model_module": "@jupyter-widgets/base",
            "_model_module_version": "1.2.0",
            "_model_name": "LayoutModel",
            "_view_count": null,
            "_view_module": "@jupyter-widgets/base",
            "_view_module_version": "1.2.0",
            "_view_name": "LayoutView",
            "align_content": null,
            "align_items": null,
            "align_self": null,
            "border": null,
            "bottom": null,
            "display": null,
            "flex": null,
            "flex_flow": null,
            "grid_area": null,
            "grid_auto_columns": null,
            "grid_auto_flow": null,
            "grid_auto_rows": null,
            "grid_column": null,
            "grid_gap": null,
            "grid_row": null,
            "grid_template_areas": null,
            "grid_template_columns": null,
            "grid_template_rows": null,
            "height": null,
            "justify_content": null,
            "justify_items": null,
            "left": null,
            "margin": null,
            "max_height": null,
            "max_width": null,
            "min_height": null,
            "min_width": null,
            "object_fit": null,
            "object_position": null,
            "order": null,
            "overflow": null,
            "overflow_x": null,
            "overflow_y": null,
            "padding": null,
            "right": null,
            "top": null,
            "visibility": null,
            "width": null
          }
        },
        "5b26fdbe4d1c48dbb0115cb9bee4ee8c": {
          "model_module": "@jupyter-widgets/controls",
          "model_name": "ProgressStyleModel",
          "model_module_version": "1.5.0",
          "state": {
            "_model_module": "@jupyter-widgets/controls",
            "_model_module_version": "1.5.0",
            "_model_name": "ProgressStyleModel",
            "_view_count": null,
            "_view_module": "@jupyter-widgets/base",
            "_view_module_version": "1.2.0",
            "_view_name": "StyleView",
            "bar_color": null,
            "description_width": ""
          }
        },
        "ec7c09f846664a9a92a2a47739d2fcc3": {
          "model_module": "@jupyter-widgets/base",
          "model_name": "LayoutModel",
          "model_module_version": "1.2.0",
          "state": {
            "_model_module": "@jupyter-widgets/base",
            "_model_module_version": "1.2.0",
            "_model_name": "LayoutModel",
            "_view_count": null,
            "_view_module": "@jupyter-widgets/base",
            "_view_module_version": "1.2.0",
            "_view_name": "LayoutView",
            "align_content": null,
            "align_items": null,
            "align_self": null,
            "border": null,
            "bottom": null,
            "display": null,
            "flex": null,
            "flex_flow": null,
            "grid_area": null,
            "grid_auto_columns": null,
            "grid_auto_flow": null,
            "grid_auto_rows": null,
            "grid_column": null,
            "grid_gap": null,
            "grid_row": null,
            "grid_template_areas": null,
            "grid_template_columns": null,
            "grid_template_rows": null,
            "height": null,
            "justify_content": null,
            "justify_items": null,
            "left": null,
            "margin": null,
            "max_height": null,
            "max_width": null,
            "min_height": null,
            "min_width": null,
            "object_fit": null,
            "object_position": null,
            "order": null,
            "overflow": null,
            "overflow_x": null,
            "overflow_y": null,
            "padding": null,
            "right": null,
            "top": null,
            "visibility": null,
            "width": null
          }
        },
        "718e75b48edd4b6e9b24057fb07042a2": {
          "model_module": "@jupyter-widgets/controls",
          "model_name": "DescriptionStyleModel",
          "model_module_version": "1.5.0",
          "state": {
            "_model_module": "@jupyter-widgets/controls",
            "_model_module_version": "1.5.0",
            "_model_name": "DescriptionStyleModel",
            "_view_count": null,
            "_view_module": "@jupyter-widgets/base",
            "_view_module_version": "1.2.0",
            "_view_name": "StyleView",
            "description_width": ""
          }
        },
        "806d07c9c4c1409cbe285fb8d9481abf": {
          "model_module": "@jupyter-widgets/controls",
          "model_name": "HBoxModel",
          "model_module_version": "1.5.0",
          "state": {
            "_dom_classes": [],
            "_model_module": "@jupyter-widgets/controls",
            "_model_module_version": "1.5.0",
            "_model_name": "HBoxModel",
            "_view_count": null,
            "_view_module": "@jupyter-widgets/controls",
            "_view_module_version": "1.5.0",
            "_view_name": "HBoxView",
            "box_style": "",
            "children": [
              "IPY_MODEL_e584b65b98484cf5bbb8ab183f317ae3",
              "IPY_MODEL_ed5d6ce9586941d8a185b84ffc7e1243",
              "IPY_MODEL_f7d81989e34949709b37e1fe941aec29"
            ],
            "layout": "IPY_MODEL_bd28de5d7153429983d89d0c7bfb06c8"
          }
        },
        "e584b65b98484cf5bbb8ab183f317ae3": {
          "model_module": "@jupyter-widgets/controls",
          "model_name": "HTMLModel",
          "model_module_version": "1.5.0",
          "state": {
            "_dom_classes": [],
            "_model_module": "@jupyter-widgets/controls",
            "_model_module_version": "1.5.0",
            "_model_name": "HTMLModel",
            "_view_count": null,
            "_view_module": "@jupyter-widgets/controls",
            "_view_module_version": "1.5.0",
            "_view_name": "HTMLView",
            "description": "",
            "description_tooltip": null,
            "layout": "IPY_MODEL_e574389908cf431bbef826446cc5891c",
            "placeholder": "​",
            "style": "IPY_MODEL_3d20dc9a46374b36aa517a6bd901ad76",
            "value": "special_tokens_map.json: 100%"
          }
        },
        "ed5d6ce9586941d8a185b84ffc7e1243": {
          "model_module": "@jupyter-widgets/controls",
          "model_name": "FloatProgressModel",
          "model_module_version": "1.5.0",
          "state": {
            "_dom_classes": [],
            "_model_module": "@jupyter-widgets/controls",
            "_model_module_version": "1.5.0",
            "_model_name": "FloatProgressModel",
            "_view_count": null,
            "_view_module": "@jupyter-widgets/controls",
            "_view_module_version": "1.5.0",
            "_view_name": "ProgressView",
            "bar_style": "success",
            "description": "",
            "description_tooltip": null,
            "layout": "IPY_MODEL_7654a9ff27394ccb8e1ae5536ee13c22",
            "max": 85,
            "min": 0,
            "orientation": "horizontal",
            "style": "IPY_MODEL_75e573d53b694055b36053bb23a85598",
            "value": 85
          }
        },
        "f7d81989e34949709b37e1fe941aec29": {
          "model_module": "@jupyter-widgets/controls",
          "model_name": "HTMLModel",
          "model_module_version": "1.5.0",
          "state": {
            "_dom_classes": [],
            "_model_module": "@jupyter-widgets/controls",
            "_model_module_version": "1.5.0",
            "_model_name": "HTMLModel",
            "_view_count": null,
            "_view_module": "@jupyter-widgets/controls",
            "_view_module_version": "1.5.0",
            "_view_name": "HTMLView",
            "description": "",
            "description_tooltip": null,
            "layout": "IPY_MODEL_1f14e65daa6649bfa69ecb05bf9263c4",
            "placeholder": "​",
            "style": "IPY_MODEL_28447bc32d9c418ea1a6f6d157c1d5b7",
            "value": " 85.0/85.0 [00:00&lt;00:00, 6.89kB/s]"
          }
        },
        "bd28de5d7153429983d89d0c7bfb06c8": {
          "model_module": "@jupyter-widgets/base",
          "model_name": "LayoutModel",
          "model_module_version": "1.2.0",
          "state": {
            "_model_module": "@jupyter-widgets/base",
            "_model_module_version": "1.2.0",
            "_model_name": "LayoutModel",
            "_view_count": null,
            "_view_module": "@jupyter-widgets/base",
            "_view_module_version": "1.2.0",
            "_view_name": "LayoutView",
            "align_content": null,
            "align_items": null,
            "align_self": null,
            "border": null,
            "bottom": null,
            "display": null,
            "flex": null,
            "flex_flow": null,
            "grid_area": null,
            "grid_auto_columns": null,
            "grid_auto_flow": null,
            "grid_auto_rows": null,
            "grid_column": null,
            "grid_gap": null,
            "grid_row": null,
            "grid_template_areas": null,
            "grid_template_columns": null,
            "grid_template_rows": null,
            "height": null,
            "justify_content": null,
            "justify_items": null,
            "left": null,
            "margin": null,
            "max_height": null,
            "max_width": null,
            "min_height": null,
            "min_width": null,
            "object_fit": null,
            "object_position": null,
            "order": null,
            "overflow": null,
            "overflow_x": null,
            "overflow_y": null,
            "padding": null,
            "right": null,
            "top": null,
            "visibility": null,
            "width": null
          }
        },
        "e574389908cf431bbef826446cc5891c": {
          "model_module": "@jupyter-widgets/base",
          "model_name": "LayoutModel",
          "model_module_version": "1.2.0",
          "state": {
            "_model_module": "@jupyter-widgets/base",
            "_model_module_version": "1.2.0",
            "_model_name": "LayoutModel",
            "_view_count": null,
            "_view_module": "@jupyter-widgets/base",
            "_view_module_version": "1.2.0",
            "_view_name": "LayoutView",
            "align_content": null,
            "align_items": null,
            "align_self": null,
            "border": null,
            "bottom": null,
            "display": null,
            "flex": null,
            "flex_flow": null,
            "grid_area": null,
            "grid_auto_columns": null,
            "grid_auto_flow": null,
            "grid_auto_rows": null,
            "grid_column": null,
            "grid_gap": null,
            "grid_row": null,
            "grid_template_areas": null,
            "grid_template_columns": null,
            "grid_template_rows": null,
            "height": null,
            "justify_content": null,
            "justify_items": null,
            "left": null,
            "margin": null,
            "max_height": null,
            "max_width": null,
            "min_height": null,
            "min_width": null,
            "object_fit": null,
            "object_position": null,
            "order": null,
            "overflow": null,
            "overflow_x": null,
            "overflow_y": null,
            "padding": null,
            "right": null,
            "top": null,
            "visibility": null,
            "width": null
          }
        },
        "3d20dc9a46374b36aa517a6bd901ad76": {
          "model_module": "@jupyter-widgets/controls",
          "model_name": "DescriptionStyleModel",
          "model_module_version": "1.5.0",
          "state": {
            "_model_module": "@jupyter-widgets/controls",
            "_model_module_version": "1.5.0",
            "_model_name": "DescriptionStyleModel",
            "_view_count": null,
            "_view_module": "@jupyter-widgets/base",
            "_view_module_version": "1.2.0",
            "_view_name": "StyleView",
            "description_width": ""
          }
        },
        "7654a9ff27394ccb8e1ae5536ee13c22": {
          "model_module": "@jupyter-widgets/base",
          "model_name": "LayoutModel",
          "model_module_version": "1.2.0",
          "state": {
            "_model_module": "@jupyter-widgets/base",
            "_model_module_version": "1.2.0",
            "_model_name": "LayoutModel",
            "_view_count": null,
            "_view_module": "@jupyter-widgets/base",
            "_view_module_version": "1.2.0",
            "_view_name": "LayoutView",
            "align_content": null,
            "align_items": null,
            "align_self": null,
            "border": null,
            "bottom": null,
            "display": null,
            "flex": null,
            "flex_flow": null,
            "grid_area": null,
            "grid_auto_columns": null,
            "grid_auto_flow": null,
            "grid_auto_rows": null,
            "grid_column": null,
            "grid_gap": null,
            "grid_row": null,
            "grid_template_areas": null,
            "grid_template_columns": null,
            "grid_template_rows": null,
            "height": null,
            "justify_content": null,
            "justify_items": null,
            "left": null,
            "margin": null,
            "max_height": null,
            "max_width": null,
            "min_height": null,
            "min_width": null,
            "object_fit": null,
            "object_position": null,
            "order": null,
            "overflow": null,
            "overflow_x": null,
            "overflow_y": null,
            "padding": null,
            "right": null,
            "top": null,
            "visibility": null,
            "width": null
          }
        },
        "75e573d53b694055b36053bb23a85598": {
          "model_module": "@jupyter-widgets/controls",
          "model_name": "ProgressStyleModel",
          "model_module_version": "1.5.0",
          "state": {
            "_model_module": "@jupyter-widgets/controls",
            "_model_module_version": "1.5.0",
            "_model_name": "ProgressStyleModel",
            "_view_count": null,
            "_view_module": "@jupyter-widgets/base",
            "_view_module_version": "1.2.0",
            "_view_name": "StyleView",
            "bar_color": null,
            "description_width": ""
          }
        },
        "1f14e65daa6649bfa69ecb05bf9263c4": {
          "model_module": "@jupyter-widgets/base",
          "model_name": "LayoutModel",
          "model_module_version": "1.2.0",
          "state": {
            "_model_module": "@jupyter-widgets/base",
            "_model_module_version": "1.2.0",
            "_model_name": "LayoutModel",
            "_view_count": null,
            "_view_module": "@jupyter-widgets/base",
            "_view_module_version": "1.2.0",
            "_view_name": "LayoutView",
            "align_content": null,
            "align_items": null,
            "align_self": null,
            "border": null,
            "bottom": null,
            "display": null,
            "flex": null,
            "flex_flow": null,
            "grid_area": null,
            "grid_auto_columns": null,
            "grid_auto_flow": null,
            "grid_auto_rows": null,
            "grid_column": null,
            "grid_gap": null,
            "grid_row": null,
            "grid_template_areas": null,
            "grid_template_columns": null,
            "grid_template_rows": null,
            "height": null,
            "justify_content": null,
            "justify_items": null,
            "left": null,
            "margin": null,
            "max_height": null,
            "max_width": null,
            "min_height": null,
            "min_width": null,
            "object_fit": null,
            "object_position": null,
            "order": null,
            "overflow": null,
            "overflow_x": null,
            "overflow_y": null,
            "padding": null,
            "right": null,
            "top": null,
            "visibility": null,
            "width": null
          }
        },
        "28447bc32d9c418ea1a6f6d157c1d5b7": {
          "model_module": "@jupyter-widgets/controls",
          "model_name": "DescriptionStyleModel",
          "model_module_version": "1.5.0",
          "state": {
            "_model_module": "@jupyter-widgets/controls",
            "_model_module_version": "1.5.0",
            "_model_name": "DescriptionStyleModel",
            "_view_count": null,
            "_view_module": "@jupyter-widgets/base",
            "_view_module_version": "1.2.0",
            "_view_name": "StyleView",
            "description_width": ""
          }
        },
        "75cb91d89f7446a08ee7aba7de3c21f1": {
          "model_module": "@jupyter-widgets/controls",
          "model_name": "HBoxModel",
          "model_module_version": "1.5.0",
          "state": {
            "_dom_classes": [],
            "_model_module": "@jupyter-widgets/controls",
            "_model_module_version": "1.5.0",
            "_model_name": "HBoxModel",
            "_view_count": null,
            "_view_module": "@jupyter-widgets/controls",
            "_view_module_version": "1.5.0",
            "_view_name": "HBoxView",
            "box_style": "",
            "children": [
              "IPY_MODEL_699d9bf359a74270a95126951518d8de",
              "IPY_MODEL_3d2adee2985c4628aa970dd2d2bfe9d4",
              "IPY_MODEL_e851124525e2494281051b0f92cfcc10"
            ],
            "layout": "IPY_MODEL_ac7a469dd7e54fe5aa51ebf886a9cc25"
          }
        },
        "699d9bf359a74270a95126951518d8de": {
          "model_module": "@jupyter-widgets/controls",
          "model_name": "HTMLModel",
          "model_module_version": "1.5.0",
          "state": {
            "_dom_classes": [],
            "_model_module": "@jupyter-widgets/controls",
            "_model_module_version": "1.5.0",
            "_model_name": "HTMLModel",
            "_view_count": null,
            "_view_module": "@jupyter-widgets/controls",
            "_view_module_version": "1.5.0",
            "_view_name": "HTMLView",
            "description": "",
            "description_tooltip": null,
            "layout": "IPY_MODEL_09196afec27b46fdbbeabd8c76db0503",
            "placeholder": "​",
            "style": "IPY_MODEL_3ed3ec28725b4930ab7f735d88449ee4",
            "value": "README.md: 100%"
          }
        },
        "3d2adee2985c4628aa970dd2d2bfe9d4": {
          "model_module": "@jupyter-widgets/controls",
          "model_name": "FloatProgressModel",
          "model_module_version": "1.5.0",
          "state": {
            "_dom_classes": [],
            "_model_module": "@jupyter-widgets/controls",
            "_model_module_version": "1.5.0",
            "_model_name": "FloatProgressModel",
            "_view_count": null,
            "_view_module": "@jupyter-widgets/controls",
            "_view_module_version": "1.5.0",
            "_view_name": "ProgressView",
            "bar_style": "success",
            "description": "",
            "description_tooltip": null,
            "layout": "IPY_MODEL_f5a9c236fbe14fc68b8fdd44569af4f4",
            "max": 5174,
            "min": 0,
            "orientation": "horizontal",
            "style": "IPY_MODEL_d9dc28edac844d3bb9faabd707429809",
            "value": 5174
          }
        },
        "e851124525e2494281051b0f92cfcc10": {
          "model_module": "@jupyter-widgets/controls",
          "model_name": "HTMLModel",
          "model_module_version": "1.5.0",
          "state": {
            "_dom_classes": [],
            "_model_module": "@jupyter-widgets/controls",
            "_model_module_version": "1.5.0",
            "_model_name": "HTMLModel",
            "_view_count": null,
            "_view_module": "@jupyter-widgets/controls",
            "_view_module_version": "1.5.0",
            "_view_name": "HTMLView",
            "description": "",
            "description_tooltip": null,
            "layout": "IPY_MODEL_53acbd7bbd9c4f89bd737e1dda3c23bc",
            "placeholder": "​",
            "style": "IPY_MODEL_f2ca93263c974ab18f9acda163cdfae0",
            "value": " 5.17k/5.17k [00:00&lt;00:00, 464kB/s]"
          }
        },
        "ac7a469dd7e54fe5aa51ebf886a9cc25": {
          "model_module": "@jupyter-widgets/base",
          "model_name": "LayoutModel",
          "model_module_version": "1.2.0",
          "state": {
            "_model_module": "@jupyter-widgets/base",
            "_model_module_version": "1.2.0",
            "_model_name": "LayoutModel",
            "_view_count": null,
            "_view_module": "@jupyter-widgets/base",
            "_view_module_version": "1.2.0",
            "_view_name": "LayoutView",
            "align_content": null,
            "align_items": null,
            "align_self": null,
            "border": null,
            "bottom": null,
            "display": null,
            "flex": null,
            "flex_flow": null,
            "grid_area": null,
            "grid_auto_columns": null,
            "grid_auto_flow": null,
            "grid_auto_rows": null,
            "grid_column": null,
            "grid_gap": null,
            "grid_row": null,
            "grid_template_areas": null,
            "grid_template_columns": null,
            "grid_template_rows": null,
            "height": null,
            "justify_content": null,
            "justify_items": null,
            "left": null,
            "margin": null,
            "max_height": null,
            "max_width": null,
            "min_height": null,
            "min_width": null,
            "object_fit": null,
            "object_position": null,
            "order": null,
            "overflow": null,
            "overflow_x": null,
            "overflow_y": null,
            "padding": null,
            "right": null,
            "top": null,
            "visibility": null,
            "width": null
          }
        },
        "09196afec27b46fdbbeabd8c76db0503": {
          "model_module": "@jupyter-widgets/base",
          "model_name": "LayoutModel",
          "model_module_version": "1.2.0",
          "state": {
            "_model_module": "@jupyter-widgets/base",
            "_model_module_version": "1.2.0",
            "_model_name": "LayoutModel",
            "_view_count": null,
            "_view_module": "@jupyter-widgets/base",
            "_view_module_version": "1.2.0",
            "_view_name": "LayoutView",
            "align_content": null,
            "align_items": null,
            "align_self": null,
            "border": null,
            "bottom": null,
            "display": null,
            "flex": null,
            "flex_flow": null,
            "grid_area": null,
            "grid_auto_columns": null,
            "grid_auto_flow": null,
            "grid_auto_rows": null,
            "grid_column": null,
            "grid_gap": null,
            "grid_row": null,
            "grid_template_areas": null,
            "grid_template_columns": null,
            "grid_template_rows": null,
            "height": null,
            "justify_content": null,
            "justify_items": null,
            "left": null,
            "margin": null,
            "max_height": null,
            "max_width": null,
            "min_height": null,
            "min_width": null,
            "object_fit": null,
            "object_position": null,
            "order": null,
            "overflow": null,
            "overflow_x": null,
            "overflow_y": null,
            "padding": null,
            "right": null,
            "top": null,
            "visibility": null,
            "width": null
          }
        },
        "3ed3ec28725b4930ab7f735d88449ee4": {
          "model_module": "@jupyter-widgets/controls",
          "model_name": "DescriptionStyleModel",
          "model_module_version": "1.5.0",
          "state": {
            "_model_module": "@jupyter-widgets/controls",
            "_model_module_version": "1.5.0",
            "_model_name": "DescriptionStyleModel",
            "_view_count": null,
            "_view_module": "@jupyter-widgets/base",
            "_view_module_version": "1.2.0",
            "_view_name": "StyleView",
            "description_width": ""
          }
        },
        "f5a9c236fbe14fc68b8fdd44569af4f4": {
          "model_module": "@jupyter-widgets/base",
          "model_name": "LayoutModel",
          "model_module_version": "1.2.0",
          "state": {
            "_model_module": "@jupyter-widgets/base",
            "_model_module_version": "1.2.0",
            "_model_name": "LayoutModel",
            "_view_count": null,
            "_view_module": "@jupyter-widgets/base",
            "_view_module_version": "1.2.0",
            "_view_name": "LayoutView",
            "align_content": null,
            "align_items": null,
            "align_self": null,
            "border": null,
            "bottom": null,
            "display": null,
            "flex": null,
            "flex_flow": null,
            "grid_area": null,
            "grid_auto_columns": null,
            "grid_auto_flow": null,
            "grid_auto_rows": null,
            "grid_column": null,
            "grid_gap": null,
            "grid_row": null,
            "grid_template_areas": null,
            "grid_template_columns": null,
            "grid_template_rows": null,
            "height": null,
            "justify_content": null,
            "justify_items": null,
            "left": null,
            "margin": null,
            "max_height": null,
            "max_width": null,
            "min_height": null,
            "min_width": null,
            "object_fit": null,
            "object_position": null,
            "order": null,
            "overflow": null,
            "overflow_x": null,
            "overflow_y": null,
            "padding": null,
            "right": null,
            "top": null,
            "visibility": null,
            "width": null
          }
        },
        "d9dc28edac844d3bb9faabd707429809": {
          "model_module": "@jupyter-widgets/controls",
          "model_name": "ProgressStyleModel",
          "model_module_version": "1.5.0",
          "state": {
            "_model_module": "@jupyter-widgets/controls",
            "_model_module_version": "1.5.0",
            "_model_name": "ProgressStyleModel",
            "_view_count": null,
            "_view_module": "@jupyter-widgets/base",
            "_view_module_version": "1.2.0",
            "_view_name": "StyleView",
            "bar_color": null,
            "description_width": ""
          }
        },
        "53acbd7bbd9c4f89bd737e1dda3c23bc": {
          "model_module": "@jupyter-widgets/base",
          "model_name": "LayoutModel",
          "model_module_version": "1.2.0",
          "state": {
            "_model_module": "@jupyter-widgets/base",
            "_model_module_version": "1.2.0",
            "_model_name": "LayoutModel",
            "_view_count": null,
            "_view_module": "@jupyter-widgets/base",
            "_view_module_version": "1.2.0",
            "_view_name": "LayoutView",
            "align_content": null,
            "align_items": null,
            "align_self": null,
            "border": null,
            "bottom": null,
            "display": null,
            "flex": null,
            "flex_flow": null,
            "grid_area": null,
            "grid_auto_columns": null,
            "grid_auto_flow": null,
            "grid_auto_rows": null,
            "grid_column": null,
            "grid_gap": null,
            "grid_row": null,
            "grid_template_areas": null,
            "grid_template_columns": null,
            "grid_template_rows": null,
            "height": null,
            "justify_content": null,
            "justify_items": null,
            "left": null,
            "margin": null,
            "max_height": null,
            "max_width": null,
            "min_height": null,
            "min_width": null,
            "object_fit": null,
            "object_position": null,
            "order": null,
            "overflow": null,
            "overflow_x": null,
            "overflow_y": null,
            "padding": null,
            "right": null,
            "top": null,
            "visibility": null,
            "width": null
          }
        },
        "f2ca93263c974ab18f9acda163cdfae0": {
          "model_module": "@jupyter-widgets/controls",
          "model_name": "DescriptionStyleModel",
          "model_module_version": "1.5.0",
          "state": {
            "_model_module": "@jupyter-widgets/controls",
            "_model_module_version": "1.5.0",
            "_model_name": "DescriptionStyleModel",
            "_view_count": null,
            "_view_module": "@jupyter-widgets/base",
            "_view_module_version": "1.2.0",
            "_view_name": "StyleView",
            "description_width": ""
          }
        },
        "fe999298ae714764ab170e88807c097b": {
          "model_module": "@jupyter-widgets/controls",
          "model_name": "HBoxModel",
          "model_module_version": "1.5.0",
          "state": {
            "_dom_classes": [],
            "_model_module": "@jupyter-widgets/controls",
            "_model_module_version": "1.5.0",
            "_model_name": "HBoxModel",
            "_view_count": null,
            "_view_module": "@jupyter-widgets/controls",
            "_view_module_version": "1.5.0",
            "_view_name": "HBoxView",
            "box_style": "",
            "children": [
              "IPY_MODEL_99a079b280a541f5950d9b387f05f5d3",
              "IPY_MODEL_cb75c18e9b1844cbb55d2f00472aa2fd",
              "IPY_MODEL_5b339d8ed07943c48f3781625773a3a5"
            ],
            "layout": "IPY_MODEL_3920c204584248208ddc5335ff0fa749"
          }
        },
        "99a079b280a541f5950d9b387f05f5d3": {
          "model_module": "@jupyter-widgets/controls",
          "model_name": "HTMLModel",
          "model_module_version": "1.5.0",
          "state": {
            "_dom_classes": [],
            "_model_module": "@jupyter-widgets/controls",
            "_model_module_version": "1.5.0",
            "_model_name": "HTMLModel",
            "_view_count": null,
            "_view_module": "@jupyter-widgets/controls",
            "_view_module_version": "1.5.0",
            "_view_name": "HTMLView",
            "description": "",
            "description_tooltip": null,
            "layout": "IPY_MODEL_6117e6a16bce491c99efadd55b5ee546",
            "placeholder": "​",
            "style": "IPY_MODEL_e3c47f0b190240f8a0b6d3b733fa0a09",
            "value": "config.json: 100%"
          }
        },
        "cb75c18e9b1844cbb55d2f00472aa2fd": {
          "model_module": "@jupyter-widgets/controls",
          "model_name": "FloatProgressModel",
          "model_module_version": "1.5.0",
          "state": {
            "_dom_classes": [],
            "_model_module": "@jupyter-widgets/controls",
            "_model_module_version": "1.5.0",
            "_model_name": "FloatProgressModel",
            "_view_count": null,
            "_view_module": "@jupyter-widgets/controls",
            "_view_module_version": "1.5.0",
            "_view_name": "ProgressView",
            "bar_style": "success",
            "description": "",
            "description_tooltip": null,
            "layout": "IPY_MODEL_ff031c87e45747ddbc6d534e661ae465",
            "max": 836,
            "min": 0,
            "orientation": "horizontal",
            "style": "IPY_MODEL_b095f1718b04453da54038a619bf9837",
            "value": 836
          }
        },
        "5b339d8ed07943c48f3781625773a3a5": {
          "model_module": "@jupyter-widgets/controls",
          "model_name": "HTMLModel",
          "model_module_version": "1.5.0",
          "state": {
            "_dom_classes": [],
            "_model_module": "@jupyter-widgets/controls",
            "_model_module_version": "1.5.0",
            "_model_name": "HTMLModel",
            "_view_count": null,
            "_view_module": "@jupyter-widgets/controls",
            "_view_module_version": "1.5.0",
            "_view_name": "HTMLView",
            "description": "",
            "description_tooltip": null,
            "layout": "IPY_MODEL_425a94f799c34b22b53348e6e7aac497",
            "placeholder": "​",
            "style": "IPY_MODEL_51c4e7c661ed476bb147c23e056e1740",
            "value": " 836/836 [00:00&lt;00:00, 67.2kB/s]"
          }
        },
        "3920c204584248208ddc5335ff0fa749": {
          "model_module": "@jupyter-widgets/base",
          "model_name": "LayoutModel",
          "model_module_version": "1.2.0",
          "state": {
            "_model_module": "@jupyter-widgets/base",
            "_model_module_version": "1.2.0",
            "_model_name": "LayoutModel",
            "_view_count": null,
            "_view_module": "@jupyter-widgets/base",
            "_view_module_version": "1.2.0",
            "_view_name": "LayoutView",
            "align_content": null,
            "align_items": null,
            "align_self": null,
            "border": null,
            "bottom": null,
            "display": null,
            "flex": null,
            "flex_flow": null,
            "grid_area": null,
            "grid_auto_columns": null,
            "grid_auto_flow": null,
            "grid_auto_rows": null,
            "grid_column": null,
            "grid_gap": null,
            "grid_row": null,
            "grid_template_areas": null,
            "grid_template_columns": null,
            "grid_template_rows": null,
            "height": null,
            "justify_content": null,
            "justify_items": null,
            "left": null,
            "margin": null,
            "max_height": null,
            "max_width": null,
            "min_height": null,
            "min_width": null,
            "object_fit": null,
            "object_position": null,
            "order": null,
            "overflow": null,
            "overflow_x": null,
            "overflow_y": null,
            "padding": null,
            "right": null,
            "top": null,
            "visibility": null,
            "width": null
          }
        },
        "6117e6a16bce491c99efadd55b5ee546": {
          "model_module": "@jupyter-widgets/base",
          "model_name": "LayoutModel",
          "model_module_version": "1.2.0",
          "state": {
            "_model_module": "@jupyter-widgets/base",
            "_model_module_version": "1.2.0",
            "_model_name": "LayoutModel",
            "_view_count": null,
            "_view_module": "@jupyter-widgets/base",
            "_view_module_version": "1.2.0",
            "_view_name": "LayoutView",
            "align_content": null,
            "align_items": null,
            "align_self": null,
            "border": null,
            "bottom": null,
            "display": null,
            "flex": null,
            "flex_flow": null,
            "grid_area": null,
            "grid_auto_columns": null,
            "grid_auto_flow": null,
            "grid_auto_rows": null,
            "grid_column": null,
            "grid_gap": null,
            "grid_row": null,
            "grid_template_areas": null,
            "grid_template_columns": null,
            "grid_template_rows": null,
            "height": null,
            "justify_content": null,
            "justify_items": null,
            "left": null,
            "margin": null,
            "max_height": null,
            "max_width": null,
            "min_height": null,
            "min_width": null,
            "object_fit": null,
            "object_position": null,
            "order": null,
            "overflow": null,
            "overflow_x": null,
            "overflow_y": null,
            "padding": null,
            "right": null,
            "top": null,
            "visibility": null,
            "width": null
          }
        },
        "e3c47f0b190240f8a0b6d3b733fa0a09": {
          "model_module": "@jupyter-widgets/controls",
          "model_name": "DescriptionStyleModel",
          "model_module_version": "1.5.0",
          "state": {
            "_model_module": "@jupyter-widgets/controls",
            "_model_module_version": "1.5.0",
            "_model_name": "DescriptionStyleModel",
            "_view_count": null,
            "_view_module": "@jupyter-widgets/base",
            "_view_module_version": "1.2.0",
            "_view_name": "StyleView",
            "description_width": ""
          }
        },
        "ff031c87e45747ddbc6d534e661ae465": {
          "model_module": "@jupyter-widgets/base",
          "model_name": "LayoutModel",
          "model_module_version": "1.2.0",
          "state": {
            "_model_module": "@jupyter-widgets/base",
            "_model_module_version": "1.2.0",
            "_model_name": "LayoutModel",
            "_view_count": null,
            "_view_module": "@jupyter-widgets/base",
            "_view_module_version": "1.2.0",
            "_view_name": "LayoutView",
            "align_content": null,
            "align_items": null,
            "align_self": null,
            "border": null,
            "bottom": null,
            "display": null,
            "flex": null,
            "flex_flow": null,
            "grid_area": null,
            "grid_auto_columns": null,
            "grid_auto_flow": null,
            "grid_auto_rows": null,
            "grid_column": null,
            "grid_gap": null,
            "grid_row": null,
            "grid_template_areas": null,
            "grid_template_columns": null,
            "grid_template_rows": null,
            "height": null,
            "justify_content": null,
            "justify_items": null,
            "left": null,
            "margin": null,
            "max_height": null,
            "max_width": null,
            "min_height": null,
            "min_width": null,
            "object_fit": null,
            "object_position": null,
            "order": null,
            "overflow": null,
            "overflow_x": null,
            "overflow_y": null,
            "padding": null,
            "right": null,
            "top": null,
            "visibility": null,
            "width": null
          }
        },
        "b095f1718b04453da54038a619bf9837": {
          "model_module": "@jupyter-widgets/controls",
          "model_name": "ProgressStyleModel",
          "model_module_version": "1.5.0",
          "state": {
            "_model_module": "@jupyter-widgets/controls",
            "_model_module_version": "1.5.0",
            "_model_name": "ProgressStyleModel",
            "_view_count": null,
            "_view_module": "@jupyter-widgets/base",
            "_view_module_version": "1.2.0",
            "_view_name": "StyleView",
            "bar_color": null,
            "description_width": ""
          }
        },
        "425a94f799c34b22b53348e6e7aac497": {
          "model_module": "@jupyter-widgets/base",
          "model_name": "LayoutModel",
          "model_module_version": "1.2.0",
          "state": {
            "_model_module": "@jupyter-widgets/base",
            "_model_module_version": "1.2.0",
            "_model_name": "LayoutModel",
            "_view_count": null,
            "_view_module": "@jupyter-widgets/base",
            "_view_module_version": "1.2.0",
            "_view_name": "LayoutView",
            "align_content": null,
            "align_items": null,
            "align_self": null,
            "border": null,
            "bottom": null,
            "display": null,
            "flex": null,
            "flex_flow": null,
            "grid_area": null,
            "grid_auto_columns": null,
            "grid_auto_flow": null,
            "grid_auto_rows": null,
            "grid_column": null,
            "grid_gap": null,
            "grid_row": null,
            "grid_template_areas": null,
            "grid_template_columns": null,
            "grid_template_rows": null,
            "height": null,
            "justify_content": null,
            "justify_items": null,
            "left": null,
            "margin": null,
            "max_height": null,
            "max_width": null,
            "min_height": null,
            "min_width": null,
            "object_fit": null,
            "object_position": null,
            "order": null,
            "overflow": null,
            "overflow_x": null,
            "overflow_y": null,
            "padding": null,
            "right": null,
            "top": null,
            "visibility": null,
            "width": null
          }
        },
        "51c4e7c661ed476bb147c23e056e1740": {
          "model_module": "@jupyter-widgets/controls",
          "model_name": "DescriptionStyleModel",
          "model_module_version": "1.5.0",
          "state": {
            "_model_module": "@jupyter-widgets/controls",
            "_model_module_version": "1.5.0",
            "_model_name": "DescriptionStyleModel",
            "_view_count": null,
            "_view_module": "@jupyter-widgets/base",
            "_view_module_version": "1.2.0",
            "_view_name": "StyleView",
            "description_width": ""
          }
        },
        "fa62ace30cdb4cc9868aaf11429a93e2": {
          "model_module": "@jupyter-widgets/controls",
          "model_name": "HBoxModel",
          "model_module_version": "1.5.0",
          "state": {
            "_dom_classes": [],
            "_model_module": "@jupyter-widgets/controls",
            "_model_module_version": "1.5.0",
            "_model_name": "HBoxModel",
            "_view_count": null,
            "_view_module": "@jupyter-widgets/controls",
            "_view_module_version": "1.5.0",
            "_view_name": "HBoxView",
            "box_style": "",
            "children": [
              "IPY_MODEL_d3804ef5a84d4858972194cf73c4f211",
              "IPY_MODEL_b61e9cb6ee6d4461aacdecb1f8a34ca6",
              "IPY_MODEL_046c6aae12bb46079b9c1a1e2b150143"
            ],
            "layout": "IPY_MODEL_57bc9d95e3a5487dacc02dba89ea9e25"
          }
        },
        "d3804ef5a84d4858972194cf73c4f211": {
          "model_module": "@jupyter-widgets/controls",
          "model_name": "HTMLModel",
          "model_module_version": "1.5.0",
          "state": {
            "_dom_classes": [],
            "_model_module": "@jupyter-widgets/controls",
            "_model_module_version": "1.5.0",
            "_model_name": "HTMLModel",
            "_view_count": null,
            "_view_module": "@jupyter-widgets/controls",
            "_view_module_version": "1.5.0",
            "_view_name": "HTMLView",
            "description": "",
            "description_tooltip": null,
            "layout": "IPY_MODEL_61a61f3c0e8e4ced8acbc9df2537bb45",
            "placeholder": "​",
            "style": "IPY_MODEL_5339548b44d3450a83209acd591b177d",
            "value": "model.safetensors: 100%"
          }
        },
        "b61e9cb6ee6d4461aacdecb1f8a34ca6": {
          "model_module": "@jupyter-widgets/controls",
          "model_name": "FloatProgressModel",
          "model_module_version": "1.5.0",
          "state": {
            "_dom_classes": [],
            "_model_module": "@jupyter-widgets/controls",
            "_model_module_version": "1.5.0",
            "_model_name": "FloatProgressModel",
            "_view_count": null,
            "_view_module": "@jupyter-widgets/controls",
            "_view_module_version": "1.5.0",
            "_view_name": "ProgressView",
            "bar_style": "success",
            "description": "",
            "description_tooltip": null,
            "layout": "IPY_MODEL_59454775c4d04f49a89d8ed77f80147f",
            "max": 1995339680,
            "min": 0,
            "orientation": "horizontal",
            "style": "IPY_MODEL_07ed02327e7e4e4d839a45c2bfcbfa00",
            "value": 1995339680
          }
        },
        "046c6aae12bb46079b9c1a1e2b150143": {
          "model_module": "@jupyter-widgets/controls",
          "model_name": "HTMLModel",
          "model_module_version": "1.5.0",
          "state": {
            "_dom_classes": [],
            "_model_module": "@jupyter-widgets/controls",
            "_model_module_version": "1.5.0",
            "_model_name": "HTMLModel",
            "_view_count": null,
            "_view_module": "@jupyter-widgets/controls",
            "_view_module_version": "1.5.0",
            "_view_name": "HTMLView",
            "description": "",
            "description_tooltip": null,
            "layout": "IPY_MODEL_a78a09a28c9f479baf43d0971b32a03d",
            "placeholder": "​",
            "style": "IPY_MODEL_d02343d19a98428d8dbb7e4bc322566a",
            "value": " 2.00G/2.00G [01:41&lt;00:00, 20.8MB/s]"
          }
        },
        "57bc9d95e3a5487dacc02dba89ea9e25": {
          "model_module": "@jupyter-widgets/base",
          "model_name": "LayoutModel",
          "model_module_version": "1.2.0",
          "state": {
            "_model_module": "@jupyter-widgets/base",
            "_model_module_version": "1.2.0",
            "_model_name": "LayoutModel",
            "_view_count": null,
            "_view_module": "@jupyter-widgets/base",
            "_view_module_version": "1.2.0",
            "_view_name": "LayoutView",
            "align_content": null,
            "align_items": null,
            "align_self": null,
            "border": null,
            "bottom": null,
            "display": null,
            "flex": null,
            "flex_flow": null,
            "grid_area": null,
            "grid_auto_columns": null,
            "grid_auto_flow": null,
            "grid_auto_rows": null,
            "grid_column": null,
            "grid_gap": null,
            "grid_row": null,
            "grid_template_areas": null,
            "grid_template_columns": null,
            "grid_template_rows": null,
            "height": null,
            "justify_content": null,
            "justify_items": null,
            "left": null,
            "margin": null,
            "max_height": null,
            "max_width": null,
            "min_height": null,
            "min_width": null,
            "object_fit": null,
            "object_position": null,
            "order": null,
            "overflow": null,
            "overflow_x": null,
            "overflow_y": null,
            "padding": null,
            "right": null,
            "top": null,
            "visibility": null,
            "width": null
          }
        },
        "61a61f3c0e8e4ced8acbc9df2537bb45": {
          "model_module": "@jupyter-widgets/base",
          "model_name": "LayoutModel",
          "model_module_version": "1.2.0",
          "state": {
            "_model_module": "@jupyter-widgets/base",
            "_model_module_version": "1.2.0",
            "_model_name": "LayoutModel",
            "_view_count": null,
            "_view_module": "@jupyter-widgets/base",
            "_view_module_version": "1.2.0",
            "_view_name": "LayoutView",
            "align_content": null,
            "align_items": null,
            "align_self": null,
            "border": null,
            "bottom": null,
            "display": null,
            "flex": null,
            "flex_flow": null,
            "grid_area": null,
            "grid_auto_columns": null,
            "grid_auto_flow": null,
            "grid_auto_rows": null,
            "grid_column": null,
            "grid_gap": null,
            "grid_row": null,
            "grid_template_areas": null,
            "grid_template_columns": null,
            "grid_template_rows": null,
            "height": null,
            "justify_content": null,
            "justify_items": null,
            "left": null,
            "margin": null,
            "max_height": null,
            "max_width": null,
            "min_height": null,
            "min_width": null,
            "object_fit": null,
            "object_position": null,
            "order": null,
            "overflow": null,
            "overflow_x": null,
            "overflow_y": null,
            "padding": null,
            "right": null,
            "top": null,
            "visibility": null,
            "width": null
          }
        },
        "5339548b44d3450a83209acd591b177d": {
          "model_module": "@jupyter-widgets/controls",
          "model_name": "DescriptionStyleModel",
          "model_module_version": "1.5.0",
          "state": {
            "_model_module": "@jupyter-widgets/controls",
            "_model_module_version": "1.5.0",
            "_model_name": "DescriptionStyleModel",
            "_view_count": null,
            "_view_module": "@jupyter-widgets/base",
            "_view_module_version": "1.2.0",
            "_view_name": "StyleView",
            "description_width": ""
          }
        },
        "59454775c4d04f49a89d8ed77f80147f": {
          "model_module": "@jupyter-widgets/base",
          "model_name": "LayoutModel",
          "model_module_version": "1.2.0",
          "state": {
            "_model_module": "@jupyter-widgets/base",
            "_model_module_version": "1.2.0",
            "_model_name": "LayoutModel",
            "_view_count": null,
            "_view_module": "@jupyter-widgets/base",
            "_view_module_version": "1.2.0",
            "_view_name": "LayoutView",
            "align_content": null,
            "align_items": null,
            "align_self": null,
            "border": null,
            "bottom": null,
            "display": null,
            "flex": null,
            "flex_flow": null,
            "grid_area": null,
            "grid_auto_columns": null,
            "grid_auto_flow": null,
            "grid_auto_rows": null,
            "grid_column": null,
            "grid_gap": null,
            "grid_row": null,
            "grid_template_areas": null,
            "grid_template_columns": null,
            "grid_template_rows": null,
            "height": null,
            "justify_content": null,
            "justify_items": null,
            "left": null,
            "margin": null,
            "max_height": null,
            "max_width": null,
            "min_height": null,
            "min_width": null,
            "object_fit": null,
            "object_position": null,
            "order": null,
            "overflow": null,
            "overflow_x": null,
            "overflow_y": null,
            "padding": null,
            "right": null,
            "top": null,
            "visibility": null,
            "width": null
          }
        },
        "07ed02327e7e4e4d839a45c2bfcbfa00": {
          "model_module": "@jupyter-widgets/controls",
          "model_name": "ProgressStyleModel",
          "model_module_version": "1.5.0",
          "state": {
            "_model_module": "@jupyter-widgets/controls",
            "_model_module_version": "1.5.0",
            "_model_name": "ProgressStyleModel",
            "_view_count": null,
            "_view_module": "@jupyter-widgets/base",
            "_view_module_version": "1.2.0",
            "_view_name": "StyleView",
            "bar_color": null,
            "description_width": ""
          }
        },
        "a78a09a28c9f479baf43d0971b32a03d": {
          "model_module": "@jupyter-widgets/base",
          "model_name": "LayoutModel",
          "model_module_version": "1.2.0",
          "state": {
            "_model_module": "@jupyter-widgets/base",
            "_model_module_version": "1.2.0",
            "_model_name": "LayoutModel",
            "_view_count": null,
            "_view_module": "@jupyter-widgets/base",
            "_view_module_version": "1.2.0",
            "_view_name": "LayoutView",
            "align_content": null,
            "align_items": null,
            "align_self": null,
            "border": null,
            "bottom": null,
            "display": null,
            "flex": null,
            "flex_flow": null,
            "grid_area": null,
            "grid_auto_columns": null,
            "grid_auto_flow": null,
            "grid_auto_rows": null,
            "grid_column": null,
            "grid_gap": null,
            "grid_row": null,
            "grid_template_areas": null,
            "grid_template_columns": null,
            "grid_template_rows": null,
            "height": null,
            "justify_content": null,
            "justify_items": null,
            "left": null,
            "margin": null,
            "max_height": null,
            "max_width": null,
            "min_height": null,
            "min_width": null,
            "object_fit": null,
            "object_position": null,
            "order": null,
            "overflow": null,
            "overflow_x": null,
            "overflow_y": null,
            "padding": null,
            "right": null,
            "top": null,
            "visibility": null,
            "width": null
          }
        },
        "d02343d19a98428d8dbb7e4bc322566a": {
          "model_module": "@jupyter-widgets/controls",
          "model_name": "DescriptionStyleModel",
          "model_module_version": "1.5.0",
          "state": {
            "_model_module": "@jupyter-widgets/controls",
            "_model_module_version": "1.5.0",
            "_model_name": "DescriptionStyleModel",
            "_view_count": null,
            "_view_module": "@jupyter-widgets/base",
            "_view_module_version": "1.2.0",
            "_view_name": "StyleView",
            "description_width": ""
          }
        }
      }
    }
  },
  "cells": [
    {
      "cell_type": "markdown",
      "metadata": {
        "id": "view-in-github",
        "colab_type": "text"
      },
      "source": [
        "<a href=\"https://colab.research.google.com/github/peremartra/LLMOptCost/blob/main/11/12_pruning_structured.ipynb\" target=\"_parent\"><img src=\"https://colab.research.google.com/assets/colab-badge.svg\" alt=\"Open In Colab\"/></a>"
      ]
    },
    {
      "cell_type": "markdown",
      "source": [
        "#Import Libraries & Support functions."
      ],
      "metadata": {
        "id": "D2cQlEYYbfZ7"
      }
    },
    {
      "cell_type": "code",
      "execution_count": 1,
      "metadata": {
        "id": "t81oS3_sM2-I"
      },
      "outputs": [],
      "source": [
        "import torch\n",
        "import torch.nn.utils.prune as prune\n",
        "from transformers import AutoModelForCausalLM, AutoTokenizer\n",
        "import matplotlib.pyplot as plt"
      ]
    },
    {
      "cell_type": "code",
      "source": [
        "def check_sparsity(layer):\n",
        "    zero_weights = torch.sum(layer.weight == 0).item()\n",
        "    total_weights = layer.weight.numel()\n",
        "    sparsity = zero_weights / total_weights\n",
        "    print(f\"Sparsity: {sparsity:.2%} of the weights are zero.\")"
      ],
      "metadata": {
        "id": "XLwjFOS_Bhw_"
      },
      "execution_count": 2,
      "outputs": []
    },
    {
      "cell_type": "code",
      "source": [
        "# Load  Hugging Face model\n",
        "base_model_name = \"bigscience/bloomz-560m\"\n",
        "pruned_model_name = \"bloomz-560m-pruned-structured\""
      ],
      "metadata": {
        "id": "tsJG05EwbOEX"
      },
      "execution_count": 3,
      "outputs": []
    },
    {
      "cell_type": "code",
      "source": [
        "model = AutoModelForCausalLM.from_pretrained(base_model_name)"
      ],
      "metadata": {
        "id": "NyavvDYY23IQ",
        "outputId": "099434c0-639a-49c4-cd7e-e9b4d888e942",
        "colab": {
          "base_uri": "https://localhost:8080/",
          "height": 81,
          "referenced_widgets": [
            "0257092d9b6c4d7198bff83ff296a251",
            "287a5437f3214dc195b4195173a26595",
            "36c51dc39bff4e72ae76ccc9b4ead02f",
            "187604b365bf47fa9de9f40c595acca4",
            "fb60deb1fd1a41329fef5d20fe79be51",
            "fe4d0947584142c9bcc713f226665363",
            "a1301b728aa240b98978a2d82e01de4c",
            "82cc43cf83854c11812a32d676ea1a08",
            "a7f91dd7f5844f78a4348468b06714b2",
            "9d7189bb6f2e480ab4d47fe2efa8ab0b",
            "da1125c3603b4a46b5bdedba9c95b6c4",
            "60672b97d8bc46949ab1f6951ab02523",
            "dfef5e688da84663867e25bbf0a4cb7b",
            "1b84383961764604b9edd65b09794c92",
            "d403926bf01f4a98957041b5f5d57a3d",
            "e62b021edc0d4bbe98a8bdf8d5940fb9",
            "a01655ba003e4c949a9b65b23ca1e7c8",
            "e795934b959446e889debbed10e4cf91",
            "a4267d74f14a4fb192080238b2f0c8b3",
            "4f5c1afd61774643b146f7ff73749966",
            "64a7f8738fbc4d97a6b85158f956a839",
            "593cbdddbddf4711abac6c64b0c595da"
          ]
        }
      },
      "execution_count": 4,
      "outputs": [
        {
          "output_type": "display_data",
          "data": {
            "text/plain": [
              "config.json:   0%|          | 0.00/715 [00:00<?, ?B/s]"
            ],
            "application/vnd.jupyter.widget-view+json": {
              "version_major": 2,
              "version_minor": 0,
              "model_id": "0257092d9b6c4d7198bff83ff296a251"
            }
          },
          "metadata": {}
        },
        {
          "output_type": "display_data",
          "data": {
            "text/plain": [
              "model.safetensors:   0%|          | 0.00/1.12G [00:00<?, ?B/s]"
            ],
            "application/vnd.jupyter.widget-view+json": {
              "version_major": 2,
              "version_minor": 0,
              "model_id": "60672b97d8bc46949ab1f6951ab02523"
            }
          },
          "metadata": {}
        }
      ]
    },
    {
      "cell_type": "code",
      "source": [
        "# Load tokenizer\n",
        "tokenizer = AutoTokenizer.from_pretrained(base_model_name)"
      ],
      "metadata": {
        "id": "MUhNMt5I408O",
        "outputId": "1b704771-7c6b-4338-fc1b-1cc3440b101c",
        "colab": {
          "base_uri": "https://localhost:8080/",
          "height": 113,
          "referenced_widgets": [
            "c43cb56006b4479c86bb270826cdfea8",
            "480ff3bd57cf4d06827a10f3861beac0",
            "e7aa6fd8d5e74d44a35b3e69f1623795",
            "7c074b768b194f35897501d509536d32",
            "cfa349e4dd344f1ea3a3cd46f8df84ba",
            "6d1ba5a6bf2a4e91a12b55330d23159b",
            "0e0f2cd77c6d4ba587c614fdac4ba4af",
            "6c2b3a7b1a9d47fd84fc5e7a3cd84af7",
            "e58921ebf0f14c0fb71e395936bc4898",
            "7adcc9b761f74e869dc14f739a73ac4f",
            "7d6199c31fa541439ec56711ab77aa18",
            "dad22ff33c2d4149a658c28d77cd1b11",
            "ba8724d7c1534cd29aea63e7ea3a2c2c",
            "a8b02efbe73f4d19992758f01c4184a4",
            "5a41c41517664df4a2724c6a6950d7b7",
            "a15bf00f9268445698ad6efb6db71151",
            "47612e45d0e74e79bde4f35f9904e48a",
            "faa78c90e1de489b8d84b649ee008393",
            "593985f8dd984eb4a05e4b3cf84d5dd4",
            "5b26fdbe4d1c48dbb0115cb9bee4ee8c",
            "ec7c09f846664a9a92a2a47739d2fcc3",
            "718e75b48edd4b6e9b24057fb07042a2",
            "806d07c9c4c1409cbe285fb8d9481abf",
            "e584b65b98484cf5bbb8ab183f317ae3",
            "ed5d6ce9586941d8a185b84ffc7e1243",
            "f7d81989e34949709b37e1fe941aec29",
            "bd28de5d7153429983d89d0c7bfb06c8",
            "e574389908cf431bbef826446cc5891c",
            "3d20dc9a46374b36aa517a6bd901ad76",
            "7654a9ff27394ccb8e1ae5536ee13c22",
            "75e573d53b694055b36053bb23a85598",
            "1f14e65daa6649bfa69ecb05bf9263c4",
            "28447bc32d9c418ea1a6f6d157c1d5b7"
          ]
        }
      },
      "execution_count": 5,
      "outputs": [
        {
          "output_type": "display_data",
          "data": {
            "text/plain": [
              "tokenizer_config.json:   0%|          | 0.00/222 [00:00<?, ?B/s]"
            ],
            "application/vnd.jupyter.widget-view+json": {
              "version_major": 2,
              "version_minor": 0,
              "model_id": "c43cb56006b4479c86bb270826cdfea8"
            }
          },
          "metadata": {}
        },
        {
          "output_type": "display_data",
          "data": {
            "text/plain": [
              "tokenizer.json:   0%|          | 0.00/14.5M [00:00<?, ?B/s]"
            ],
            "application/vnd.jupyter.widget-view+json": {
              "version_major": 2,
              "version_minor": 0,
              "model_id": "dad22ff33c2d4149a658c28d77cd1b11"
            }
          },
          "metadata": {}
        },
        {
          "output_type": "display_data",
          "data": {
            "text/plain": [
              "special_tokens_map.json:   0%|          | 0.00/85.0 [00:00<?, ?B/s]"
            ],
            "application/vnd.jupyter.widget-view+json": {
              "version_major": 2,
              "version_minor": 0,
              "model_id": "806d07c9c4c1409cbe285fb8d9481abf"
            }
          },
          "metadata": {}
        }
      ]
    },
    {
      "cell_type": "code",
      "source": [
        "def count_parameters(model):\n",
        "    return sum(p.numel() for p in model.parameters() if p.requires_grad)"
      ],
      "metadata": {
        "id": "rsDclYm_8esX"
      },
      "execution_count": 6,
      "outputs": []
    },
    {
      "cell_type": "code",
      "source": [
        "def compute_neuron_importance(mlp_layer):\n",
        "    # Access the first linear layer in the MLP\n",
        "    dense_h_to_4h = mlp_layer.dense_h_to_4h\n",
        "    weight = dense_h_to_4h.weight.data  # Shape: (intermediate_size, hidden_size)\n",
        "\n",
        "    # Compute the L2 norm of each neuron (over input features)\n",
        "    neuron_importance = torch.norm(weight, p=2, dim=1)  # Shape: (intermediate_size,)\n",
        "\n",
        "    return neuron_importance"
      ],
      "metadata": {
        "id": "-F2D5y7H27GN"
      },
      "execution_count": 7,
      "outputs": []
    },
    {
      "cell_type": "code",
      "source": [
        "def select_neurons_to_prune(neuron_importance, pruning_percentage):\n",
        "    num_neurons = neuron_importance.size(0)\n",
        "    num_prune = int(num_neurons * pruning_percentage)\n",
        "\n",
        "    # Get indices of neurons sorted by importance\n",
        "    sorted_indices = torch.argsort(neuron_importance)\n",
        "\n",
        "    # Select indices to prune (least important neurons)\n",
        "    neurons_to_prune = sorted_indices[:num_prune]\n",
        "\n",
        "    return neurons_to_prune"
      ],
      "metadata": {
        "id": "rr34sn5R3CVA"
      },
      "execution_count": 8,
      "outputs": []
    },
    {
      "cell_type": "code",
      "source": [
        "def prune_mlp_neurons(mlp_layer, neurons_to_prune):\n",
        "    \"\"\"\n",
        "    Prune specified neurons in the MLP layer.\n",
        "    \"\"\"\n",
        "    # Access the MLP's linear layers\n",
        "    dense_h_to_4h = mlp_layer.dense_h_to_4h\n",
        "    dense_4h_to_h = mlp_layer.dense_4h_to_h\n",
        "\n",
        "    # Prune neurons in dense_h_to_4h (input to MLP)\n",
        "    prune_linear_layer(dense_h_to_4h, neurons_to_prune, dim=0)\n",
        "\n",
        "    # Prune corresponding neurons in dense_4h_to_h (output of MLP)\n",
        "    prune_linear_layer(dense_4h_to_h, neurons_to_prune, dim=1)"
      ],
      "metadata": {
        "id": "s2XzetWM4Q6C"
      },
      "execution_count": 9,
      "outputs": []
    },
    {
      "cell_type": "code",
      "source": [
        "def prune_linear_layer(layer, indices_to_prune, dim=0):\n",
        "    \"\"\"\n",
        "    Prune specified indices from a linear layer along the given dimension.\n",
        "    \"\"\"\n",
        "    # Convert indices to keep\n",
        "    indices_to_keep = torch.tensor([\n",
        "        idx for idx in range(layer.weight.size(dim))\n",
        "        if idx not in set(indices_to_prune.tolist())\n",
        "    ])\n",
        "\n",
        "    # Prune weights\n",
        "    weight = layer.weight.data.index_select(dim, indices_to_keep)\n",
        "    layer.weight = torch.nn.Parameter(weight)\n",
        "\n",
        "    # Prune biases if necessary\n",
        "    if layer.bias is not None:\n",
        "        if dim == 0:\n",
        "            bias = layer.bias.data.index_select(0, indices_to_keep)\n",
        "            layer.bias = torch.nn.Parameter(bias)\n",
        "\n",
        "    # Update layer dimensions\n",
        "    if dim == 0:\n",
        "        layer.out_features = weight.size(0)\n",
        "    else:\n",
        "        layer.in_features = weight.size(1)"
      ],
      "metadata": {
        "id": "7tbWWSWe4Tzb"
      },
      "execution_count": 10,
      "outputs": []
    },
    {
      "cell_type": "code",
      "source": [
        "def prune_mlp_neurons_in_model(model, pruning_percentage):\n",
        "    num_layers = model.config.num_hidden_layers\n",
        "\n",
        "    for layer_idx in range(num_layers):\n",
        "        # Access the MLP layer\n",
        "        mlp_layer = model.transformer.h[layer_idx].mlp\n",
        "\n",
        "        # Compute neuron importance\n",
        "        neuron_importance = compute_neuron_importance(mlp_layer)\n",
        "\n",
        "        # Select neurons to prune\n",
        "        neurons_to_prune = select_neurons_to_prune(neuron_importance, pruning_percentage)\n",
        "\n",
        "        # Prune neurons\n",
        "        prune_mlp_neurons(mlp_layer, neurons_to_prune)\n",
        "\n",
        "        # Update intermediate_size in the configuration\n",
        "        new_intermediate_size = mlp_layer.dense_h_to_4h.out_features\n",
        "        model.config.intermediate_size = new_intermediate_size # Update if necessary\n"
      ],
      "metadata": {
        "id": "73SV2ED74Wz2"
      },
      "execution_count": 11,
      "outputs": []
    },
    {
      "cell_type": "code",
      "source": [
        "# Before pruning\n",
        "total_params_before = count_parameters(model)\n",
        "print(f\"Total parameters before pruning: {total_params_before}\")"
      ],
      "metadata": {
        "id": "NlGZcjNb8jEW",
        "outputId": "a70b2975-515d-41a2-e761-9e5884725072",
        "colab": {
          "base_uri": "https://localhost:8080/"
        }
      },
      "execution_count": 12,
      "outputs": [
        {
          "output_type": "stream",
          "name": "stdout",
          "text": [
            "Total parameters before pruning: 559214592\n"
          ]
        }
      ]
    },
    {
      "cell_type": "code",
      "source": [
        "prompt=\"Tell me a joke\"\n",
        "inputs = tokenizer(prompt, return_tensors=\"pt\").to(model.device)\n",
        "base_output = model.generate(**inputs)\n",
        "base_response = tokenizer.decode(base_output[0], skip_special_tokens=True)\n",
        "print(base_response)"
      ],
      "metadata": {
        "id": "d5lQCpJBRRnz",
        "outputId": "3c62165e-5bfe-423f-995c-f3bf97c17548",
        "colab": {
          "base_uri": "https://localhost:8080/"
        }
      },
      "execution_count": 13,
      "outputs": [
        {
          "output_type": "stream",
          "name": "stderr",
          "text": [
            "/usr/local/lib/python3.10/dist-packages/transformers/generation/utils.py:1258: UserWarning: Using the model-agnostic default `max_length` (=20) to control the generation length. We recommend setting `max_new_tokens` to control the maximum length of the generation.\n",
            "  warnings.warn(\n"
          ]
        },
        {
          "output_type": "stream",
          "name": "stdout",
          "text": [
            "Tell me a joke about a man who is a doctor\n"
          ]
        }
      ]
    },
    {
      "cell_type": "markdown",
      "source": [
        "## Prune Model"
      ],
      "metadata": {
        "id": "zxdwtDKhf01B"
      }
    },
    {
      "cell_type": "code",
      "source": [
        "# Define the pruning percentage (e.g., 20% pruning)\n",
        "pruning_percentage = 0.3  # Adjust as needed\n",
        "\n",
        "# Prune MLP neurons in the model\n",
        "prune_mlp_neurons_in_model(model, pruning_percentage)"
      ],
      "metadata": {
        "id": "yQuzCebT4aAH"
      },
      "execution_count": 14,
      "outputs": []
    },
    {
      "cell_type": "markdown",
      "source": [
        "### Modify Configuration & test pruned model"
      ],
      "metadata": {
        "id": "8J_3wqQNf4GM"
      }
    },
    {
      "cell_type": "code",
      "source": [
        "# Update structure model\n",
        "#for layer_idx in range(model.config.num_hidden_layers):\n",
        "#    mlp_layer = model.transformer.h[layer_idx].mlp\n",
        "#    new_intermediate_size = mlp_layer.dense_h_to_4h.out_features\n",
        "#    model.config.intermediate_size = new_intermediate_size  # Update the model config"
      ],
      "metadata": {
        "id": "3V9l5uEZf_Te"
      },
      "execution_count": 20,
      "outputs": []
    },
    {
      "cell_type": "code",
      "source": [
        "# After pruning\n",
        "total_params_after = count_parameters(model)\n",
        "print(f\"Total parameters after pruning: {total_params_after}\")\n",
        "\n",
        "# Calculate the number of parameters removed\n",
        "params_removed = total_params_before - total_params_after\n",
        "print(f\"Number of parameters removed: {params_removed}\")\n",
        "\n",
        "# Calculate percentage reduction\n",
        "percent_reduction = 100.0 * params_removed / total_params_before\n",
        "print(f\"Percentage reduction in parameters: {percent_reduction:.2f}%\")\n"
      ],
      "metadata": {
        "id": "z9G0QPYA8naZ",
        "outputId": "3f8203bc-6e4a-434c-c28b-796130b5a52f",
        "colab": {
          "base_uri": "https://localhost:8080/"
        }
      },
      "execution_count": 15,
      "outputs": [
        {
          "output_type": "stream",
          "name": "stdout",
          "text": [
            "Total parameters after pruning: 498826464\n",
            "Number of parameters removed: 60388128\n",
            "Percentage reduction in parameters: 10.80%\n"
          ]
        }
      ]
    },
    {
      "cell_type": "code",
      "source": [
        "prompt=\"Tell me a joke\"\n",
        "inputs = tokenizer(prompt, return_tensors=\"pt\").to(model.device)\n",
        "base_output = model.generate(**inputs)\n",
        "base_response = tokenizer.decode(base_output[0], skip_special_tokens=True)\n",
        "print(base_response)"
      ],
      "metadata": {
        "id": "jlomsST95xBN",
        "outputId": "c265bab3-cbcf-4682-cf49-807daed193ad",
        "colab": {
          "base_uri": "https://localhost:8080/"
        }
      },
      "execution_count": 16,
      "outputs": [
        {
          "output_type": "stream",
          "name": "stdout",
          "text": [
            "Tell me a joke about how how you got to to the first first first time you can get to\n"
          ]
        }
      ]
    },
    {
      "cell_type": "markdown",
      "source": [
        "## Save & Upload Model"
      ],
      "metadata": {
        "id": "IXNjjL9gRsEP"
      }
    },
    {
      "cell_type": "code",
      "source": [
        "# Save the quantized model\n",
        "model.save_pretrained(\n",
        "    \"bloomz-560m-pruned-structured2\",\n",
        ")\n",
        "tokenizer.save_pretrained(pruned_model_name)"
      ],
      "metadata": {
        "id": "JJrnO6ORRmKS",
        "outputId": "4cd8362e-f3f5-4a41-dbff-2f2f7a6acf2d",
        "colab": {
          "base_uri": "https://localhost:8080/"
        }
      },
      "execution_count": 17,
      "outputs": [
        {
          "output_type": "execute_result",
          "data": {
            "text/plain": [
              "('bloomz-560m-pruned-structured/tokenizer_config.json',\n",
              " 'bloomz-560m-pruned-structured/special_tokens_map.json',\n",
              " 'bloomz-560m-pruned-structured/tokenizer.json')"
            ]
          },
          "metadata": {},
          "execution_count": 17
        }
      ]
    },
    {
      "cell_type": "code",
      "source": [
        "model.push_to_hub(\"bloomz-560m-pruned-structured2\",\n",
        "                  private=True,\n",
        "                  use_temp_dir=False)"
      ],
      "metadata": {
        "id": "j0Hv_wLDUaAP",
        "outputId": "87b0aab1-d3c5-4a70-d0e8-7cdd846e2f0f",
        "colab": {
          "base_uri": "https://localhost:8080/",
          "height": 138,
          "referenced_widgets": [
            "75cb91d89f7446a08ee7aba7de3c21f1",
            "699d9bf359a74270a95126951518d8de",
            "3d2adee2985c4628aa970dd2d2bfe9d4",
            "e851124525e2494281051b0f92cfcc10",
            "ac7a469dd7e54fe5aa51ebf886a9cc25",
            "09196afec27b46fdbbeabd8c76db0503",
            "3ed3ec28725b4930ab7f735d88449ee4",
            "f5a9c236fbe14fc68b8fdd44569af4f4",
            "d9dc28edac844d3bb9faabd707429809",
            "53acbd7bbd9c4f89bd737e1dda3c23bc",
            "f2ca93263c974ab18f9acda163cdfae0"
          ]
        }
      },
      "execution_count": 18,
      "outputs": [
        {
          "output_type": "display_data",
          "data": {
            "text/plain": [
              "README.md:   0%|          | 0.00/5.17k [00:00<?, ?B/s]"
            ],
            "application/vnd.jupyter.widget-view+json": {
              "version_major": 2,
              "version_minor": 0,
              "model_id": "75cb91d89f7446a08ee7aba7de3c21f1"
            }
          },
          "metadata": {}
        },
        {
          "output_type": "execute_result",
          "data": {
            "text/plain": [
              "CommitInfo(commit_url='https://huggingface.co/oopere/bloomz-560m-pruned-structured2/commit/0eb6caac59850a8a229fc9ffc41ff6538e1c15e6', commit_message='Upload BloomForCausalLM', commit_description='', oid='0eb6caac59850a8a229fc9ffc41ff6538e1c15e6', pr_url=None, pr_revision=None, pr_num=None)"
            ],
            "application/vnd.google.colaboratory.intrinsic+json": {
              "type": "string"
            }
          },
          "metadata": {},
          "execution_count": 18
        }
      ]
    },
    {
      "cell_type": "code",
      "source": [
        "tokenizer.push_to_hub(\"bloomz-560m-pruned-structured2\",\n",
        "                      private=False,\n",
        "                      use_temp_dir=False)"
      ],
      "metadata": {
        "id": "WzRgQ_c0Ug8T",
        "outputId": "7d611f7e-ec06-4c9d-8a50-398661ae85b8",
        "colab": {
          "base_uri": "https://localhost:8080/",
          "height": 162
        }
      },
      "execution_count": 19,
      "outputs": [
        {
          "output_type": "stream",
          "name": "stderr",
          "text": [
            "No files have been modified since last commit. Skipping to prevent empty commit.\n",
            "WARNING:huggingface_hub.hf_api:No files have been modified since last commit. Skipping to prevent empty commit.\n"
          ]
        },
        {
          "output_type": "execute_result",
          "data": {
            "text/plain": [
              "CommitInfo(commit_url='https://huggingface.co/oopere/bloomz-560m-pruned-structured2/commit/0eb6caac59850a8a229fc9ffc41ff6538e1c15e6', commit_message='Upload tokenizer', commit_description='', oid='0eb6caac59850a8a229fc9ffc41ff6538e1c15e6', pr_url=None, pr_revision=None, pr_num=None)"
            ],
            "application/vnd.google.colaboratory.intrinsic+json": {
              "type": "string"
            }
          },
          "metadata": {},
          "execution_count": 19
        }
      ]
    },
    {
      "cell_type": "markdown",
      "source": [
        "# Load the pruned model from Hugging Face & Test."
      ],
      "metadata": {
        "id": "qusVr4RuZBIZ"
      }
    },
    {
      "cell_type": "code",
      "source": [
        "download_model_pruned_name = \"oopere/bloomz-560m-pruned-structured2\"\n",
        "model = AutoModelForCausalLM.from_pretrained(download_model_pruned_name)"
      ],
      "metadata": {
        "id": "gsq3wZ2uUlMf",
        "outputId": "adf7bd63-db81-41b2-a496-d433367f0fca",
        "colab": {
          "base_uri": "https://localhost:8080/",
          "height": 1000,
          "referenced_widgets": [
            "fe999298ae714764ab170e88807c097b",
            "99a079b280a541f5950d9b387f05f5d3",
            "cb75c18e9b1844cbb55d2f00472aa2fd",
            "5b339d8ed07943c48f3781625773a3a5",
            "3920c204584248208ddc5335ff0fa749",
            "6117e6a16bce491c99efadd55b5ee546",
            "e3c47f0b190240f8a0b6d3b733fa0a09",
            "ff031c87e45747ddbc6d534e661ae465",
            "b095f1718b04453da54038a619bf9837",
            "425a94f799c34b22b53348e6e7aac497",
            "51c4e7c661ed476bb147c23e056e1740",
            "fa62ace30cdb4cc9868aaf11429a93e2",
            "d3804ef5a84d4858972194cf73c4f211",
            "b61e9cb6ee6d4461aacdecb1f8a34ca6",
            "046c6aae12bb46079b9c1a1e2b150143",
            "57bc9d95e3a5487dacc02dba89ea9e25",
            "61a61f3c0e8e4ced8acbc9df2537bb45",
            "5339548b44d3450a83209acd591b177d",
            "59454775c4d04f49a89d8ed77f80147f",
            "07ed02327e7e4e4d839a45c2bfcbfa00",
            "a78a09a28c9f479baf43d0971b32a03d",
            "d02343d19a98428d8dbb7e4bc322566a"
          ]
        }
      },
      "execution_count": 20,
      "outputs": [
        {
          "output_type": "display_data",
          "data": {
            "text/plain": [
              "config.json:   0%|          | 0.00/836 [00:00<?, ?B/s]"
            ],
            "application/vnd.jupyter.widget-view+json": {
              "version_major": 2,
              "version_minor": 0,
              "model_id": "fe999298ae714764ab170e88807c097b"
            }
          },
          "metadata": {}
        },
        {
          "output_type": "display_data",
          "data": {
            "text/plain": [
              "model.safetensors:   0%|          | 0.00/2.00G [00:00<?, ?B/s]"
            ],
            "application/vnd.jupyter.widget-view+json": {
              "version_major": 2,
              "version_minor": 0,
              "model_id": "fa62ace30cdb4cc9868aaf11429a93e2"
            }
          },
          "metadata": {}
        },
        {
          "output_type": "error",
          "ename": "RuntimeError",
          "evalue": "Error(s) in loading state_dict for BloomForCausalLM:\n\tsize mismatch for transformer.h.0.mlp.dense_h_to_4h.weight: copying a param with shape torch.Size([2868, 1024]) from checkpoint, the shape in current model is torch.Size([4096, 1024]).\n\tsize mismatch for transformer.h.0.mlp.dense_h_to_4h.bias: copying a param with shape torch.Size([2868]) from checkpoint, the shape in current model is torch.Size([4096]).\n\tsize mismatch for transformer.h.0.mlp.dense_4h_to_h.weight: copying a param with shape torch.Size([1024, 2868]) from checkpoint, the shape in current model is torch.Size([1024, 4096]).\n\tsize mismatch for transformer.h.1.mlp.dense_h_to_4h.weight: copying a param with shape torch.Size([2868, 1024]) from checkpoint, the shape in current model is torch.Size([4096, 1024]).\n\tsize mismatch for transformer.h.1.mlp.dense_h_to_4h.bias: copying a param with shape torch.Size([2868]) from checkpoint, the shape in current model is torch.Size([4096]).\n\tsize mismatch for transformer.h.1.mlp.dense_4h_to_h.weight: copying a param with shape torch.Size([1024, 2868]) from checkpoint, the shape in current model is torch.Size([1024, 4096]).\n\tsize mismatch for transformer.h.2.mlp.dense_h_to_4h.weight: copying a param with shape torch.Size([2868, 1024]) from checkpoint, the shape in current model is torch.Size([4096, 1024]).\n\tsize mismatch for transformer.h.2.mlp.dense_h_to_4h.bias: copying a param with shape torch.Size([2868]) from checkpoint, the shape in current model is torch.Size([4096]).\n\tsize mismatch for transformer.h.2.mlp.dense_4h_to_h.weight: copying a param with shape torch.Size([1024, 2868]) from checkpoint, the shape in current model is torch.Size([1024, 4096]).\n\tsize mismatch for transformer.h.3.mlp.dense_h_to_4h.weight: copying a param with shape torch.Size([2868, 1024]) from checkpoint, the shape in current model is torch.Size([4096, 1024]).\n\tsize mismatch for transformer.h.3.mlp.dense_h_to_4h.bias: copying a param with shape torch.Size([2868]) from checkpoint, the shape in current model is torch.Size([4096]).\n\tsize mismatch for transformer.h.3.mlp.dense_4h_to_h.weight: copying a param with shape torch.Size([1024, 2868]) from checkpoint, the shape in current model is torch.Size([1024, 4096]).\n\tsize mismatch for transformer.h.4.mlp.dense_h_to_4h.weight: copying a param with shape torch.Size([2868, 1024]) from checkpoint, the shape in current model is torch.Size([4096, 1024]).\n\tsize mismatch for transformer.h.4.mlp.dense_h_to_4h.bias: copying a param with shape torch.Size([2868]) from checkpoint, the shape in current model is torch.Size([4096]).\n\tsize mismatch for transformer.h.4.mlp.dense_4h_to_h.weight: copying a param with shape torch.Size([1024, 2868]) from checkpoint, the shape in current model is torch.Size([1024, 4096]).\n\tsize mismatch for transformer.h.5.mlp.dense_h_to_4h.weight: copying a param with shape torch.Size([2868, 1024]) from checkpoint, the shape in current model is torch.Size([4096, 1024]).\n\tsize mismatch for transformer.h.5.mlp.dense_h_to_4h.bias: copying a param with shape torch.Size([2868]) from checkpoint, the shape in current model is torch.Size([4096]).\n\tsize mismatch for transformer.h.5.mlp.dense_4h_to_h.weight: copying a param with shape torch.Size([1024, 2868]) from checkpoint, the shape in current model is torch.Size([1024, 4096]).\n\tsize mismatch for transformer.h.6.mlp.dense_h_to_4h.weight: copying a param with shape torch.Size([2868, 1024]) from checkpoint, the shape in current model is torch.Size([4096, 1024]).\n\tsize mismatch for transformer.h.6.mlp.dense_h_to_4h.bias: copying a param with shape torch.Size([2868]) from checkpoint, the shape in current model is torch.Size([4096]).\n\tsize mismatch for transformer.h.6.mlp.dense_4h_to_h.weight: copying a param with shape torch.Size([1024, 2868]) from checkpoint, the shape in current model is torch.Size([1024, 4096]).\n\tsize mismatch for transformer.h.7.mlp.dense_h_to_4h.weight: copying a param with shape torch.Size([2868, 1024]) from checkpoint, the shape in current model is torch.Size([4096, 1024]).\n\tsize mismatch for transformer.h.7.mlp.dense_h_to_4h.bias: copying a param with shape torch.Size([2868]) from checkpoint, the shape in current model is torch.Size([4096]).\n\tsize mismatch for transformer.h.7.mlp.dense_4h_to_h.weight: copying a param with shape torch.Size([1024, 2868]) from checkpoint, the shape in current model is torch.Size([1024, 4096]).\n\tsize mismatch for transformer.h.8.mlp.dense_h_to_4h.weight: copying a param with shape torch.Size([2868, 1024]) from checkpoint, the shape in current model is torch.Size([4096, 1024]).\n\tsize mismatch for transformer.h.8.mlp.dense_h_to_4h.bias: copying a param with shape torch.Size([2868]) from checkpoint, the shape in current model is torch.Size([4096]).\n\tsize mismatch for transformer.h.8.mlp.dense_4h_to_h.weight: copying a param with shape torch.Size([1024, 2868]) from checkpoint, the shape in current model is torch.Size([1024, 4096]).\n\tsize mismatch for transformer.h.9.mlp.dense_h_to_4h.weight: copying a param with shape torch.Size([2868, 1024]) from checkpoint, the shape in current model is torch.Size([4096, 1024]).\n\tsize mismatch for transformer.h.9.mlp.dense_h_to_4h.bias: copying a param with shape torch.Size([2868]) from checkpoint, the shape in current model is torch.Size([4096]).\n\tsize mismatch for transformer.h.9.mlp.dense_4h_to_h.weight: copying a param with shape torch.Size([1024, 2868]) from checkpoint, the shape in current model is torch.Size([1024, 4096]).\n\tsize mismatch for transformer.h.10.mlp.dense_h_to_4h.weight: copying a param with shape torch.Size([2868, 1024]) from checkpoint, the shape in current model is torch.Size([4096, 1024]).\n\tsize mismatch for transformer.h.10.mlp.dense_h_to_4h.bias: copying a param with shape torch.Size([2868]) from checkpoint, the shape in current model is torch.Size([4096]).\n\tsize mismatch for transformer.h.10.mlp.dense_4h_to_h.weight: copying a param with shape torch.Size([1024, 2868]) from checkpoint, the shape in current model is torch.Size([1024, 4096]).\n\tsize mismatch for transformer.h.11.mlp.dense_h_to_4h.weight: copying a param with shape torch.Size([2868, 1024]) from checkpoint, the shape in current model is torch.Size([4096, 1024]).\n\tsize mismatch for transformer.h.11.mlp.dense_h_to_4h.bias: copying a param with shape torch.Size([2868]) from checkpoint, the shape in current model is torch.Size([4096]).\n\tsize mismatch for transformer.h.11.mlp.dense_4h_to_h.weight: copying a param with shape torch.Size([1024, 2868]) from checkpoint, the shape in current model is torch.Size([1024, 4096]).\n\tsize mismatch for transformer.h.12.mlp.dense_h_to_4h.weight: copying a param with shape torch.Size([2868, 1024]) from checkpoint, the shape in current model is torch.Size([4096, 1024]).\n\tsize mismatch for transformer.h.12.mlp.dense_h_to_4h.bias: copying a param with shape torch.Size([2868]) from checkpoint, the shape in current model is torch.Size([4096]).\n\tsize mismatch for transformer.h.12.mlp.dense_4h_to_h.weight: copying a param with shape torch.Size([1024, 2868]) from checkpoint, the shape in current model is torch.Size([1024, 4096]).\n\tsize mismatch for transformer.h.13.mlp.dense_h_to_4h.weight: copying a param with shape torch.Size([2868, 1024]) from checkpoint, the shape in current model is torch.Size([4096, 1024]).\n\tsize mismatch for transformer.h.13.mlp.dense_h_to_4h.bias: copying a param with shape torch.Size([2868]) from checkpoint, the shape in current model is torch.Size([4096]).\n\tsize mismatch for transformer.h.13.mlp.dense_4h_to_h.weight: copying a param with shape torch.Size([1024, 2868]) from checkpoint, the shape in current model is torch.Size([1024, 4096]).\n\tsize mismatch for transformer.h.14.mlp.dense_h_to_4h.weight: copying a param with shape torch.Size([2868, 1024]) from checkpoint, the shape in current model is torch.Size([4096, 1024]).\n\tsize mismatch for transformer.h.14.mlp.dense_h_to_4h.bias: copying a param with shape torch.Size([2868]) from checkpoint, the shape in current model is torch.Size([4096]).\n\tsize mismatch for transformer.h.14.mlp.dense_4h_to_h.weight: copying a param with shape torch.Size([1024, 2868]) from checkpoint, the shape in current model is torch.Size([1024, 4096]).\n\tsize mismatch for transformer.h.15.mlp.dense_h_to_4h.weight: copying a param with shape torch.Size([2868, 1024]) from checkpoint, the shape in current model is torch.Size([4096, 1024]).\n\tsize mismatch for transformer.h.15.mlp.dense_h_to_4h.bias: copying a param with shape torch.Size([2868]) from checkpoint, the shape in current model is torch.Size([4096]).\n\tsize mismatch for transformer.h.15.mlp.dense_4h_to_h.weight: copying a param with shape torch.Size([1024, 2868]) from checkpoint, the shape in current model is torch.Size([1024, 4096]).\n\tsize mismatch for transformer.h.16.mlp.dense_h_to_4h.weight: copying a param with shape torch.Size([2868, 1024]) from checkpoint, the shape in current model is torch.Size([4096, 1024]).\n\tsize mismatch for transformer.h.16.mlp.dense_h_to_4h.bias: copying a param with shape torch.Size([2868]) from checkpoint, the shape in current model is torch.Size([4096]).\n\tsize mismatch for transformer.h.16.mlp.dense_4h_to_h.weight: copying a param with shape torch.Size([1024, 2868]) from checkpoint, the shape in current model is torch.Size([1024, 4096]).\n\tsize mismatch for transformer.h.17.mlp.dense_h_to_4h.weight: copying a param with shape torch.Size([2868, 1024]) from checkpoint, the shape in current model is torch.Size([4096, 1024]).\n\tsize mismatch for transformer.h.17.mlp.dense_h_to_4h.bias: copying a param with shape torch.Size([2868]) from checkpoint, the shape in current model is torch.Size([4096]).\n\tsize mismatch for transformer.h.17.mlp.dense_4h_to_h.weight: copying a param with shape torch.Size([1024, 2868]) from checkpoint, the shape in current model is torch.Size([1024, 4096]).\n\tsize mismatch for transformer.h.18.mlp.dense_h_to_4h.weight: copying a param with shape torch.Size([2868, 1024]) from checkpoint, the shape in current model is torch.Size([4096, 1024]).\n\tsize mismatch for transformer.h.18.mlp.dense_h_to_4h.bias: copying a param with shape torch.Size([2868]) from checkpoint, the shape in current model is torch.Size([4096]).\n\tsize mismatch for transformer.h.18.mlp.dense_4h_to_h.weight: copying a param with shape torch.Size([1024, 2868]) from checkpoint, the shape in current model is torch.Size([1024, 4096]).\n\tsize mismatch for transformer.h.19.mlp.dense_h_to_4h.weight: copying a param with shape torch.Size([2868, 1024]) from checkpoint, the shape in current model is torch.Size([4096, 1024]).\n\tsize mismatch for transformer.h.19.mlp.dense_h_to_4h.bias: copying a param with shape torch.Size([2868]) from checkpoint, the shape in current model is torch.Size([4096]).\n\tsize mismatch for transformer.h.19.mlp.dense_4h_to_h.weight: copying a param with shape torch.Size([1024, 2868]) from checkpoint, the shape in current model is torch.Size([1024, 4096]).\n\tsize mismatch for transformer.h.20.mlp.dense_h_to_4h.weight: copying a param with shape torch.Size([2868, 1024]) from checkpoint, the shape in current model is torch.Size([4096, 1024]).\n\tsize mismatch for transformer.h.20.mlp.dense_h_to_4h.bias: copying a param with shape torch.Size([2868]) from checkpoint, the shape in current model is torch.Size([4096]).\n\tsize mismatch for transformer.h.20.mlp.dense_4h_to_h.weight: copying a param with shape torch.Size([1024, 2868]) from checkpoint, the shape in current model is torch.Size([1024, 4096]).\n\tsize mismatch for transformer.h.21.mlp.dense_h_to_4h.weight: copying a param with shape torch.Size([2868, 1024]) from checkpoint, the shape in current model is torch.Size([4096, 1024]).\n\tsize mismatch for transformer.h.21.mlp.dense_h_to_4h.bias: copying a param with shape torch.Size([2868]) from checkpoint, the shape in current model is torch.Size([4096]).\n\tsize mismatch for transformer.h.21.mlp.dense_4h_to_h.weight: copying a param with shape torch.Size([1024, 2868]) from checkpoint, the shape in current model is torch.Size([1024, 4096]).\n\tsize mismatch for transformer.h.22.mlp.dense_h_to_4h.weight: copying a param with shape torch.Size([2868, 1024]) from checkpoint, the shape in current model is torch.Size([4096, 1024]).\n\tsize mismatch for transformer.h.22.mlp.dense_h_to_4h.bias: copying a param with shape torch.Size([2868]) from checkpoint, the shape in current model is torch.Size([4096]).\n\tsize mismatch for transformer.h.22.mlp.dense_4h_to_h.weight: copying a param with shape torch.Size([1024, 2868]) from checkpoint, the shape in current model is torch.Size([1024, 4096]).\n\tsize mismatch for transformer.h.23.mlp.dense_h_to_4h.weight: copying a param with shape torch.Size([2868, 1024]) from checkpoint, the shape in current model is torch.Size([4096, 1024]).\n\tsize mismatch for transformer.h.23.mlp.dense_h_to_4h.bias: copying a param with shape torch.Size([2868]) from checkpoint, the shape in current model is torch.Size([4096]).\n\tsize mismatch for transformer.h.23.mlp.dense_4h_to_h.weight: copying a param with shape torch.Size([1024, 2868]) from checkpoint, the shape in current model is torch.Size([1024, 4096]).\n\tYou may consider adding `ignore_mismatched_sizes=True` in the model `from_pretrained` method.",
          "traceback": [
            "\u001b[0;31m---------------------------------------------------------------------------\u001b[0m",
            "\u001b[0;31mRuntimeError\u001b[0m                              Traceback (most recent call last)",
            "\u001b[0;32m<ipython-input-20-2620d180ecec>\u001b[0m in \u001b[0;36m<cell line: 2>\u001b[0;34m()\u001b[0m\n\u001b[1;32m      1\u001b[0m \u001b[0mdownload_model_pruned_name\u001b[0m \u001b[0;34m=\u001b[0m \u001b[0;34m\"oopere/bloomz-560m-pruned-structured2\"\u001b[0m\u001b[0;34m\u001b[0m\u001b[0;34m\u001b[0m\u001b[0m\n\u001b[0;32m----> 2\u001b[0;31m \u001b[0mmodel\u001b[0m \u001b[0;34m=\u001b[0m \u001b[0mAutoModelForCausalLM\u001b[0m\u001b[0;34m.\u001b[0m\u001b[0mfrom_pretrained\u001b[0m\u001b[0;34m(\u001b[0m\u001b[0mdownload_model_pruned_name\u001b[0m\u001b[0;34m)\u001b[0m\u001b[0;34m\u001b[0m\u001b[0;34m\u001b[0m\u001b[0m\n\u001b[0m",
            "\u001b[0;32m/usr/local/lib/python3.10/dist-packages/transformers/models/auto/auto_factory.py\u001b[0m in \u001b[0;36mfrom_pretrained\u001b[0;34m(cls, pretrained_model_name_or_path, *model_args, **kwargs)\u001b[0m\n\u001b[1;32m    562\u001b[0m         \u001b[0;32melif\u001b[0m \u001b[0mtype\u001b[0m\u001b[0;34m(\u001b[0m\u001b[0mconfig\u001b[0m\u001b[0;34m)\u001b[0m \u001b[0;32min\u001b[0m \u001b[0mcls\u001b[0m\u001b[0;34m.\u001b[0m\u001b[0m_model_mapping\u001b[0m\u001b[0;34m.\u001b[0m\u001b[0mkeys\u001b[0m\u001b[0;34m(\u001b[0m\u001b[0;34m)\u001b[0m\u001b[0;34m:\u001b[0m\u001b[0;34m\u001b[0m\u001b[0;34m\u001b[0m\u001b[0m\n\u001b[1;32m    563\u001b[0m             \u001b[0mmodel_class\u001b[0m \u001b[0;34m=\u001b[0m \u001b[0m_get_model_class\u001b[0m\u001b[0;34m(\u001b[0m\u001b[0mconfig\u001b[0m\u001b[0;34m,\u001b[0m \u001b[0mcls\u001b[0m\u001b[0;34m.\u001b[0m\u001b[0m_model_mapping\u001b[0m\u001b[0;34m)\u001b[0m\u001b[0;34m\u001b[0m\u001b[0;34m\u001b[0m\u001b[0m\n\u001b[0;32m--> 564\u001b[0;31m             return model_class.from_pretrained(\n\u001b[0m\u001b[1;32m    565\u001b[0m                 \u001b[0mpretrained_model_name_or_path\u001b[0m\u001b[0;34m,\u001b[0m \u001b[0;34m*\u001b[0m\u001b[0mmodel_args\u001b[0m\u001b[0;34m,\u001b[0m \u001b[0mconfig\u001b[0m\u001b[0;34m=\u001b[0m\u001b[0mconfig\u001b[0m\u001b[0;34m,\u001b[0m \u001b[0;34m**\u001b[0m\u001b[0mhub_kwargs\u001b[0m\u001b[0;34m,\u001b[0m \u001b[0;34m**\u001b[0m\u001b[0mkwargs\u001b[0m\u001b[0;34m\u001b[0m\u001b[0;34m\u001b[0m\u001b[0m\n\u001b[1;32m    566\u001b[0m             )\n",
            "\u001b[0;32m/usr/local/lib/python3.10/dist-packages/transformers/modeling_utils.py\u001b[0m in \u001b[0;36mfrom_pretrained\u001b[0;34m(cls, pretrained_model_name_or_path, config, cache_dir, ignore_mismatched_sizes, force_download, local_files_only, token, revision, use_safetensors, *model_args, **kwargs)\u001b[0m\n\u001b[1;32m   3958\u001b[0m                 \u001b[0moffload_index\u001b[0m\u001b[0;34m,\u001b[0m\u001b[0;34m\u001b[0m\u001b[0;34m\u001b[0m\u001b[0m\n\u001b[1;32m   3959\u001b[0m                 \u001b[0merror_msgs\u001b[0m\u001b[0;34m,\u001b[0m\u001b[0;34m\u001b[0m\u001b[0;34m\u001b[0m\u001b[0m\n\u001b[0;32m-> 3960\u001b[0;31m             \u001b[0;34m)\u001b[0m \u001b[0;34m=\u001b[0m \u001b[0mcls\u001b[0m\u001b[0;34m.\u001b[0m\u001b[0m_load_pretrained_model\u001b[0m\u001b[0;34m(\u001b[0m\u001b[0;34m\u001b[0m\u001b[0;34m\u001b[0m\u001b[0m\n\u001b[0m\u001b[1;32m   3961\u001b[0m                 \u001b[0mmodel\u001b[0m\u001b[0;34m,\u001b[0m\u001b[0;34m\u001b[0m\u001b[0;34m\u001b[0m\u001b[0m\n\u001b[1;32m   3962\u001b[0m                 \u001b[0mstate_dict\u001b[0m\u001b[0;34m,\u001b[0m\u001b[0;34m\u001b[0m\u001b[0;34m\u001b[0m\u001b[0m\n",
            "\u001b[0;32m/usr/local/lib/python3.10/dist-packages/transformers/modeling_utils.py\u001b[0m in \u001b[0;36m_load_pretrained_model\u001b[0;34m(cls, model, state_dict, loaded_keys, resolved_archive_file, pretrained_model_name_or_path, ignore_mismatched_sizes, sharded_metadata, _fast_init, low_cpu_mem_usage, device_map, offload_folder, offload_state_dict, dtype, hf_quantizer, keep_in_fp32_modules, gguf_path)\u001b[0m\n\u001b[1;32m   4490\u001b[0m                     \u001b[0;34m\"\\n\\tYou may consider adding `ignore_mismatched_sizes=True` in the model `from_pretrained` method.\"\u001b[0m\u001b[0;34m\u001b[0m\u001b[0;34m\u001b[0m\u001b[0m\n\u001b[1;32m   4491\u001b[0m                 )\n\u001b[0;32m-> 4492\u001b[0;31m             \u001b[0;32mraise\u001b[0m \u001b[0mRuntimeError\u001b[0m\u001b[0;34m(\u001b[0m\u001b[0;34mf\"Error(s) in loading state_dict for {model.__class__.__name__}:\\n\\t{error_msg}\"\u001b[0m\u001b[0;34m)\u001b[0m\u001b[0;34m\u001b[0m\u001b[0;34m\u001b[0m\u001b[0m\n\u001b[0m\u001b[1;32m   4493\u001b[0m \u001b[0;34m\u001b[0m\u001b[0m\n\u001b[1;32m   4494\u001b[0m         \u001b[0;32mif\u001b[0m \u001b[0mlen\u001b[0m\u001b[0;34m(\u001b[0m\u001b[0munexpected_keys\u001b[0m\u001b[0;34m)\u001b[0m \u001b[0;34m>\u001b[0m \u001b[0;36m0\u001b[0m\u001b[0;34m:\u001b[0m\u001b[0;34m\u001b[0m\u001b[0;34m\u001b[0m\u001b[0m\n",
            "\u001b[0;31mRuntimeError\u001b[0m: Error(s) in loading state_dict for BloomForCausalLM:\n\tsize mismatch for transformer.h.0.mlp.dense_h_to_4h.weight: copying a param with shape torch.Size([2868, 1024]) from checkpoint, the shape in current model is torch.Size([4096, 1024]).\n\tsize mismatch for transformer.h.0.mlp.dense_h_to_4h.bias: copying a param with shape torch.Size([2868]) from checkpoint, the shape in current model is torch.Size([4096]).\n\tsize mismatch for transformer.h.0.mlp.dense_4h_to_h.weight: copying a param with shape torch.Size([1024, 2868]) from checkpoint, the shape in current model is torch.Size([1024, 4096]).\n\tsize mismatch for transformer.h.1.mlp.dense_h_to_4h.weight: copying a param with shape torch.Size([2868, 1024]) from checkpoint, the shape in current model is torch.Size([4096, 1024]).\n\tsize mismatch for transformer.h.1.mlp.dense_h_to_4h.bias: copying a param with shape torch.Size([2868]) from checkpoint, the shape in current model is torch.Size([4096]).\n\tsize mismatch for transformer.h.1.mlp.dense_4h_to_h.weight: copying a param with shape torch.Size([1024, 2868]) from checkpoint, the shape in current model is torch.Size([1024, 4096]).\n\tsize mismatch for transformer.h.2.mlp.dense_h_to_4h.weight: copying a param with shape torch.Size([2868, 1024]) from checkpoint, the shape in current model is torch.Size([4096, 1024]).\n\tsize mismatch for transformer.h.2.mlp.dense_h_to_4h.bias: copying a param with shape torch.Size([2868]) from checkpoint, the shape in current model is torch.Size([4096]).\n\tsize mismatch for transformer.h.2.mlp.dense_4h_to_h.weight: copying a param with shape torch.Size([1024, 2868]) from checkpoint, the shape in current model is torch.Size([1024, 4096]).\n\tsize mismatch for transformer.h.3.mlp.dense_h_to_4h.weight: copying a param with shape torch.Size([2868, 1024]) from checkpoint, the shape in current model is torch.Size([4096, 1024]).\n\tsize mismatch for transformer.h.3.mlp.dense_h_to_4h.bias: copying a param with shape torch.Size([2868]) from checkpoint, the shape in current model is torch.Size([4096]).\n\tsize mismatch for transformer.h.3.mlp.dense_4h_to_h.weight: copying a param with shape torch.Size([1024, 2868]) from checkpoint, the shape in current model is torch.Size([1024, 4096]).\n\tsize mismatch for transformer.h.4.mlp.dense_h_to_4h.weight: copying a param with shape torch.Size([2868, 1024]) from checkpoint, the shape in current model is torch.Size([4096, 1024]).\n\tsize mismatch for transformer.h.4.mlp.dense_h_to_4h.bias: copying a param with shape torch.Size([2868]) from checkpoint, the shape in current model is torch.Size([4096]).\n\tsize mismatch for transformer.h.4.mlp.dense_4h_to_h.weight: copying a param with shape torch.Size([1024, 2868]) from checkpoint, the shape in current model is torch.Size([1024, 4096]).\n\tsize mismatch for transformer.h.5.mlp.dense_h_to_4h.weight: copying a param with shape torch.Size([2868, 1024]) from checkpoint, the shape in current model is torch.Size([4096, 1024]).\n\tsize mismatch for transformer.h.5.mlp.dense_h_to_4h.bias: copying a param with shape torch.Size([2868]) from checkpoint, the shape in current model is torch.Size([4096]).\n\tsize mismatch for transformer.h.5.mlp.dense_4h_to_h.weight: copying a param with shape torch.Size([1024, 2868]) from checkpoint, the shape in current model is torch.Size([1024, 4096]).\n\tsize mismatch for transformer.h.6.mlp.dense_h_to_4h.weight: copying a param with shape torch.Size([2868, 1024]) from checkpoint, the shape in current model is torch.Size([4096, 1024]).\n\tsize mismatch for transformer.h.6.mlp.dense_h_to_4h.bias: copying a param with shape torch.Size([2868]) from checkpoint, the shape in current model is torch.Size([4096]).\n\tsize mismatch for transformer.h.6.mlp.dense_4h_to_h.weight: copying a param with shape torch.Size([1024, 2868]) from checkpoint, the shape in current model is torch.Size([1024, 4096]).\n\tsize mismatch for transformer.h.7.mlp.dense_h_to_4h.weight: copying a param with shape torch.Size([2868, 1024]) from checkpoint, the shape in current model is torch.Size([4096, 1024]).\n\tsize mismatch for transformer.h.7.mlp.dense_h_to_4h.bias: copying a param with shape torch.Size([2868]) from checkpoint, the shape in current model is torch.Size([4096]).\n\tsize mismatch for transformer.h.7.mlp.dense_4h_to_h.weight: copying a param with shape torch.Size([1024, 2868]) from checkpoint, the shape in current model is torch.Size([1024, 4096]).\n\tsize mismatch for transformer.h.8.mlp.dense_h_to_4h.weight: copying a param with shape torch.Size([2868, 1024]) from checkpoint, the shape in current model is torch.Size([4096, 1024]).\n\tsize mismatch for transformer.h.8.mlp.dense_h_to_4h.bias: copying a param with shape torch.Size([2868]) from checkpoint, the shape in current model is torch.Size([4096]).\n\tsize mismatch for transformer.h.8.mlp.dense_4h_to_h.weight: copying a param with shape torch.Size([1024, 2868]) from checkpoint, the shape in current model is torch.Size([1024, 4096]).\n\tsize mismatch for transformer.h.9.mlp.dense_h_to_4h.weight: copying a param with shape torch.Size([2868, 1024]) from checkpoint, the shape in current model is torch.Size([4096, 1024]).\n\tsize mismatch for transformer.h.9.mlp.dense_h_to_4h.bias: copying a param with shape torch.Size([2868]) from checkpoint, the shape in current model is torch.Size([4096]).\n\tsize mismatch for transformer.h.9.mlp.dense_4h_to_h.weight: copying a param with shape torch.Size([1024, 2868]) from checkpoint, the shape in current model is torch.Size([1024, 4096]).\n\tsize mismatch for transformer.h.10.mlp.dense_h_to_4h.weight: copying a param with shape torch.Size([2868, 1024]) from checkpoint, the shape in current model is torch.Size([4096, 1024]).\n\tsize mismatch for transformer.h.10.mlp.dense_h_to_4h.bias: copying a param with shape torch.Size([2868]) from checkpoint, the shape in current model is torch.Size([4096]).\n\tsize mismatch for transformer.h.10.mlp.dense_4h_to_h.weight: copying a param with shape torch.Size([1024, 2868]) from checkpoint, the shape in current model is torch.Size([1024, 4096]).\n\tsize mismatch for transformer.h.11.mlp.dense_h_to_4h.weight: copying a param with shape torch.Size([2868, 1024]) from checkpoint, the shape in current model is torch.Size([4096, 1024]).\n\tsize mismatch for transformer.h.11.mlp.dense_h_to_4h.bias: copying a param with shape torch.Size([2868]) from checkpoint, the shape in current model is torch.Size([4096]).\n\tsize mismatch for transformer.h.11.mlp.dense_4h_to_h.weight: copying a param with shape torch.Size([1024, 2868]) from checkpoint, the shape in current model is torch.Size([1024, 4096]).\n\tsize mismatch for transformer.h.12.mlp.dense_h_to_4h.weight: copying a param with shape torch.Size([2868, 1024]) from checkpoint, the shape in current model is torch.Size([4096, 1024]).\n\tsize mismatch for transformer.h.12.mlp.dense_h_to_4h.bias: copying a param with shape torch.Size([2868]) from checkpoint, the shape in current model is torch.Size([4096]).\n\tsize mismatch for transformer.h.12.mlp.dense_4h_to_h.weight: copying a param with shape torch.Size([1024, 2868]) from checkpoint, the shape in current model is torch.Size([1024, 4096]).\n\tsize mismatch for transformer.h.13.mlp.dense_h_to_4h.weight: copying a param with shape torch.Size([2868, 1024]) from checkpoint, the shape in current model is torch.Size([4096, 1024]).\n\tsize mismatch for transformer.h.13.mlp.dense_h_to_4h.bias: copying a param with shape torch.Size([2868]) from checkpoint, the shape in current model is torch.Size([4096]).\n\tsize mismatch for transformer.h.13.mlp.dense_4h_to_h.weight: copying a param with shape torch.Size([1024, 2868]) from checkpoint, the shape in current model is torch.Size([1024, 4096]).\n\tsize mismatch for transformer.h.14.mlp.dense_h_to_4h.weight: copying a param with shape torch.Size([2868, 1024]) from checkpoint, the shape in current model is torch.Size([4096, 1024]).\n\tsize mismatch for transformer.h.14.mlp.dense_h_to_4h.bias: copying a param with shape torch.Size([2868]) from checkpoint, the shape in current model is torch.Size([4096]).\n\tsize mismatch for transformer.h.14.mlp.dense_4h_to_h.weight: copying a param with shape torch.Size([1024, 2868]) from checkpoint, the shape in current model is torch.Size([1024, 4096]).\n\tsize mismatch for transformer.h.15.mlp.dense_h_to_4h.weight: copying a param with shape torch.Size([2868, 1024]) from checkpoint, the shape in current model is torch.Size([4096, 1024]).\n\tsize mismatch for transformer.h.15.mlp.dense_h_to_4h.bias: copying a param with shape torch.Size([2868]) from checkpoint, the shape in current model is torch.Size([4096]).\n\tsize mismatch for transformer.h.15.mlp.dense_4h_to_h.weight: copying a param with shape torch.Size([1024, 2868]) from checkpoint, the shape in current model is torch.Size([1024, 4096]).\n\tsize mismatch for transformer.h.16.mlp.dense_h_to_4h.weight: copying a param with shape torch.Size([2868, 1024]) from checkpoint, the shape in current model is torch.Size([4096, 1024]).\n\tsize mismatch for transformer.h.16.mlp.dense_h_to_4h.bias: copying a param with shape torch.Size([2868]) from checkpoint, the shape in current model is torch.Size([4096]).\n\tsize mismatch for transformer.h.16.mlp.dense_4h_to_h.weight: copying a param with shape torch.Size([1024, 2868]) from checkpoint, the shape in current model is torch.Size([1024, 4096]).\n\tsize mismatch for transformer.h.17.mlp.dense_h_to_4h.weight: copying a param with shape torch.Size([2868, 1024]) from checkpoint, the shape in current model is torch.Size([4096, 1024]).\n\tsize mismatch for transformer.h.17.mlp.dense_h_to_4h.bias: copying a param with shape torch.Size([2868]) from checkpoint, the shape in current model is torch.Size([4096]).\n\tsize mismatch for transformer.h.17.mlp.dense_4h_to_h.weight: copying a param with shape torch.Size([1024, 2868]) from checkpoint, the shape in current model is torch.Size([1024, 4096]).\n\tsize mismatch for transformer.h.18.mlp.dense_h_to_4h.weight: copying a param with shape torch.Size([2868, 1024]) from checkpoint, the shape in current model is torch.Size([4096, 1024]).\n\tsize mismatch for transformer.h.18.mlp.dense_h_to_4h.bias: copying a param with shape torch.Size([2868]) from checkpoint, the shape in current model is torch.Size([4096]).\n\tsize mismatch for transformer.h.18.mlp.dense_4h_to_h.weight: copying a param with shape torch.Size([1024, 2868]) from checkpoint, the shape in current model is torch.Size([1024, 4096]).\n\tsize mismatch for transformer.h.19.mlp.dense_h_to_4h.weight: copying a param with shape torch.Size([2868, 1024]) from checkpoint, the shape in current model is torch.Size([4096, 1024]).\n\tsize mismatch for transformer.h.19.mlp.dense_h_to_4h.bias: copying a param with shape torch.Size([2868]) from checkpoint, the shape in current model is torch.Size([4096]).\n\tsize mismatch for transformer.h.19.mlp.dense_4h_to_h.weight: copying a param with shape torch.Size([1024, 2868]) from checkpoint, the shape in current model is torch.Size([1024, 4096]).\n\tsize mismatch for transformer.h.20.mlp.dense_h_to_4h.weight: copying a param with shape torch.Size([2868, 1024]) from checkpoint, the shape in current model is torch.Size([4096, 1024]).\n\tsize mismatch for transformer.h.20.mlp.dense_h_to_4h.bias: copying a param with shape torch.Size([2868]) from checkpoint, the shape in current model is torch.Size([4096]).\n\tsize mismatch for transformer.h.20.mlp.dense_4h_to_h.weight: copying a param with shape torch.Size([1024, 2868]) from checkpoint, the shape in current model is torch.Size([1024, 4096]).\n\tsize mismatch for transformer.h.21.mlp.dense_h_to_4h.weight: copying a param with shape torch.Size([2868, 1024]) from checkpoint, the shape in current model is torch.Size([4096, 1024]).\n\tsize mismatch for transformer.h.21.mlp.dense_h_to_4h.bias: copying a param with shape torch.Size([2868]) from checkpoint, the shape in current model is torch.Size([4096]).\n\tsize mismatch for transformer.h.21.mlp.dense_4h_to_h.weight: copying a param with shape torch.Size([1024, 2868]) from checkpoint, the shape in current model is torch.Size([1024, 4096]).\n\tsize mismatch for transformer.h.22.mlp.dense_h_to_4h.weight: copying a param with shape torch.Size([2868, 1024]) from checkpoint, the shape in current model is torch.Size([4096, 1024]).\n\tsize mismatch for transformer.h.22.mlp.dense_h_to_4h.bias: copying a param with shape torch.Size([2868]) from checkpoint, the shape in current model is torch.Size([4096]).\n\tsize mismatch for transformer.h.22.mlp.dense_4h_to_h.weight: copying a param with shape torch.Size([1024, 2868]) from checkpoint, the shape in current model is torch.Size([1024, 4096]).\n\tsize mismatch for transformer.h.23.mlp.dense_h_to_4h.weight: copying a param with shape torch.Size([2868, 1024]) from checkpoint, the shape in current model is torch.Size([4096, 1024]).\n\tsize mismatch for transformer.h.23.mlp.dense_h_to_4h.bias: copying a param with shape torch.Size([2868]) from checkpoint, the shape in current model is torch.Size([4096]).\n\tsize mismatch for transformer.h.23.mlp.dense_4h_to_h.weight: copying a param with shape torch.Size([1024, 2868]) from checkpoint, the shape in current model is torch.Size([1024, 4096]).\n\tYou may consider adding `ignore_mismatched_sizes=True` in the model `from_pretrained` method."
          ]
        }
      ]
    },
    {
      "cell_type": "code",
      "source": [],
      "metadata": {
        "id": "NBfguGH-bYSH"
      },
      "execution_count": null,
      "outputs": []
    }
  ]
}